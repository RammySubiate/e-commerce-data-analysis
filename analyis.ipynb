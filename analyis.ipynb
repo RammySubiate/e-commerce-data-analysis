{
 "cells": [
  {
   "cell_type": "markdown",
   "id": "ea54052a",
   "metadata": {},
   "source": [
    "# E-commerce Business Transaction Data Analysis\n",
    "Data source: https://www.kaggle.com/datasets/gabrielramos87/an-online-shop-business"
   ]
  },
  {
   "cell_type": "markdown",
   "id": "c6f5db31",
   "metadata": {},
   "source": [
    "### Step 1: Setting up the environment"
   ]
  },
  {
   "cell_type": "code",
   "execution_count": 274,
   "id": "806d6a95",
   "metadata": {},
   "outputs": [],
   "source": [
    "import pandas as pd\n",
    "import matplotlib.pyplot as plt"
   ]
  },
  {
   "cell_type": "markdown",
   "id": "d03e88c9",
   "metadata": {},
   "source": [
    "### Step 2: Loading and Inspecting the Data"
   ]
  },
  {
   "cell_type": "code",
   "execution_count": 275,
   "id": "8281bc73",
   "metadata": {},
   "outputs": [],
   "source": [
    "file = \"/Users/ramilojr.subiate/Documents/FILES/etl-to-dashboard/kaggle_data/sales_transaction.csv\"\n",
    "df = pd.read_csv(file)"
   ]
  },
  {
   "cell_type": "code",
   "execution_count": 276,
   "id": "655383bd",
   "metadata": {},
   "outputs": [
    {
     "data": {
      "text/html": [
       "<div>\n",
       "<style scoped>\n",
       "    .dataframe tbody tr th:only-of-type {\n",
       "        vertical-align: middle;\n",
       "    }\n",
       "\n",
       "    .dataframe tbody tr th {\n",
       "        vertical-align: top;\n",
       "    }\n",
       "\n",
       "    .dataframe thead th {\n",
       "        text-align: right;\n",
       "    }\n",
       "</style>\n",
       "<table border=\"1\" class=\"dataframe\">\n",
       "  <thead>\n",
       "    <tr style=\"text-align: right;\">\n",
       "      <th></th>\n",
       "      <th>TransactionNo</th>\n",
       "      <th>Date</th>\n",
       "      <th>ProductNo</th>\n",
       "      <th>ProductName</th>\n",
       "      <th>Price</th>\n",
       "      <th>Quantity</th>\n",
       "      <th>CustomerNo</th>\n",
       "      <th>Country</th>\n",
       "    </tr>\n",
       "  </thead>\n",
       "  <tbody>\n",
       "    <tr>\n",
       "      <th>0</th>\n",
       "      <td>581482</td>\n",
       "      <td>12/9/2019</td>\n",
       "      <td>22485</td>\n",
       "      <td>Set Of 2 Wooden Market Crates</td>\n",
       "      <td>21.47</td>\n",
       "      <td>12</td>\n",
       "      <td>17490.0</td>\n",
       "      <td>United Kingdom</td>\n",
       "    </tr>\n",
       "    <tr>\n",
       "      <th>1</th>\n",
       "      <td>581475</td>\n",
       "      <td>12/9/2019</td>\n",
       "      <td>22596</td>\n",
       "      <td>Christmas Star Wish List Chalkboard</td>\n",
       "      <td>10.65</td>\n",
       "      <td>36</td>\n",
       "      <td>13069.0</td>\n",
       "      <td>United Kingdom</td>\n",
       "    </tr>\n",
       "    <tr>\n",
       "      <th>2</th>\n",
       "      <td>581475</td>\n",
       "      <td>12/9/2019</td>\n",
       "      <td>23235</td>\n",
       "      <td>Storage Tin Vintage Leaf</td>\n",
       "      <td>11.53</td>\n",
       "      <td>12</td>\n",
       "      <td>13069.0</td>\n",
       "      <td>United Kingdom</td>\n",
       "    </tr>\n",
       "    <tr>\n",
       "      <th>3</th>\n",
       "      <td>581475</td>\n",
       "      <td>12/9/2019</td>\n",
       "      <td>23272</td>\n",
       "      <td>Tree T-Light Holder Willie Winkie</td>\n",
       "      <td>10.65</td>\n",
       "      <td>12</td>\n",
       "      <td>13069.0</td>\n",
       "      <td>United Kingdom</td>\n",
       "    </tr>\n",
       "    <tr>\n",
       "      <th>4</th>\n",
       "      <td>581475</td>\n",
       "      <td>12/9/2019</td>\n",
       "      <td>23239</td>\n",
       "      <td>Set Of 4 Knick Knack Tins Poppies</td>\n",
       "      <td>11.94</td>\n",
       "      <td>6</td>\n",
       "      <td>13069.0</td>\n",
       "      <td>United Kingdom</td>\n",
       "    </tr>\n",
       "  </tbody>\n",
       "</table>\n",
       "</div>"
      ],
      "text/plain": [
       "  TransactionNo       Date ProductNo                          ProductName  \\\n",
       "0        581482  12/9/2019     22485        Set Of 2 Wooden Market Crates   \n",
       "1        581475  12/9/2019     22596  Christmas Star Wish List Chalkboard   \n",
       "2        581475  12/9/2019     23235             Storage Tin Vintage Leaf   \n",
       "3        581475  12/9/2019     23272    Tree T-Light Holder Willie Winkie   \n",
       "4        581475  12/9/2019     23239    Set Of 4 Knick Knack Tins Poppies   \n",
       "\n",
       "   Price  Quantity  CustomerNo         Country  \n",
       "0  21.47        12     17490.0  United Kingdom  \n",
       "1  10.65        36     13069.0  United Kingdom  \n",
       "2  11.53        12     13069.0  United Kingdom  \n",
       "3  10.65        12     13069.0  United Kingdom  \n",
       "4  11.94         6     13069.0  United Kingdom  "
      ]
     },
     "execution_count": 276,
     "metadata": {},
     "output_type": "execute_result"
    }
   ],
   "source": [
    "df.head()"
   ]
  },
  {
   "cell_type": "code",
   "execution_count": 277,
   "id": "8e27f7d6",
   "metadata": {},
   "outputs": [
    {
     "data": {
      "text/plain": [
       "(536350, 8)"
      ]
     },
     "execution_count": 277,
     "metadata": {},
     "output_type": "execute_result"
    }
   ],
   "source": [
    "df.shape"
   ]
  },
  {
   "cell_type": "code",
   "execution_count": 278,
   "id": "bac4b72d",
   "metadata": {},
   "outputs": [
    {
     "data": {
      "text/plain": [
       "Index(['TransactionNo', 'Date', 'ProductNo', 'ProductName', 'Price',\n",
       "       'Quantity', 'CustomerNo', 'Country'],\n",
       "      dtype='object')"
      ]
     },
     "execution_count": 278,
     "metadata": {},
     "output_type": "execute_result"
    }
   ],
   "source": [
    "df.columns"
   ]
  },
  {
   "cell_type": "code",
   "execution_count": 279,
   "id": "a8ce5166",
   "metadata": {},
   "outputs": [
    {
     "name": "stdout",
     "output_type": "stream",
     "text": [
      "<class 'pandas.core.frame.DataFrame'>\n",
      "RangeIndex: 536350 entries, 0 to 536349\n",
      "Data columns (total 8 columns):\n",
      " #   Column         Non-Null Count   Dtype  \n",
      "---  ------         --------------   -----  \n",
      " 0   TransactionNo  536350 non-null  object \n",
      " 1   Date           536350 non-null  object \n",
      " 2   ProductNo      536350 non-null  object \n",
      " 3   ProductName    536350 non-null  object \n",
      " 4   Price          536350 non-null  float64\n",
      " 5   Quantity       536350 non-null  int64  \n",
      " 6   CustomerNo     536295 non-null  float64\n",
      " 7   Country        536350 non-null  object \n",
      "dtypes: float64(2), int64(1), object(5)\n",
      "memory usage: 32.7+ MB\n"
     ]
    }
   ],
   "source": [
    "df.info()"
   ]
  },
  {
   "cell_type": "markdown",
   "id": "52ad114c",
   "metadata": {},
   "source": [
    "### Step 3: Cleaning and Preparing the Data"
   ]
  },
  {
   "cell_type": "markdown",
   "id": "2c2d37ab",
   "metadata": {},
   "source": [
    "3.1 Renaming columns for clarity"
   ]
  },
  {
   "cell_type": "code",
   "execution_count": 280,
   "id": "fa85370d",
   "metadata": {},
   "outputs": [
    {
     "data": {
      "text/plain": [
       "Index(['transaction_num', 'date', 'product_num', 'product_name', 'price',\n",
       "       'quantity', 'customer_num', 'country'],\n",
       "      dtype='object')"
      ]
     },
     "execution_count": 280,
     "metadata": {},
     "output_type": "execute_result"
    }
   ],
   "source": [
    "df.rename(columns={\n",
    "    \"TransactionNo\": \"transaction_num\",\n",
    "    \"Date\": \"date\",\n",
    "    \"ProductNo\": \"product_num\",\n",
    "    \"ProductName\": \"product_name\",\n",
    "    \"Price\": \"price\",\n",
    "    \"Quantity\": \"quantity\",\n",
    "    \"CustomerNo\": \"customer_num\",\n",
    "    \"Country\": \"country\"\n",
    "}, inplace=True)\n",
    "\n",
    "df.columns"
   ]
  },
  {
   "cell_type": "markdown",
   "id": "23047cfe",
   "metadata": {},
   "source": [
    "3.2 Dropping duplicates"
   ]
  },
  {
   "cell_type": "code",
   "execution_count": 281,
   "id": "82ca0025",
   "metadata": {},
   "outputs": [
    {
     "data": {
      "text/plain": [
       "np.int64(5200)"
      ]
     },
     "execution_count": 281,
     "metadata": {},
     "output_type": "execute_result"
    }
   ],
   "source": [
    "df.duplicated().sum()"
   ]
  },
  {
   "cell_type": "code",
   "execution_count": 282,
   "id": "01c52fb2",
   "metadata": {},
   "outputs": [
    {
     "data": {
      "text/plain": [
       "np.int64(0)"
      ]
     },
     "execution_count": 282,
     "metadata": {},
     "output_type": "execute_result"
    }
   ],
   "source": [
    "df.drop_duplicates(inplace=True)\n",
    "df.duplicated().sum()"
   ]
  },
  {
   "cell_type": "markdown",
   "id": "618dae24",
   "metadata": {},
   "source": [
    "3.3 Fixing Data types"
   ]
  },
  {
   "cell_type": "code",
   "execution_count": 283,
   "id": "f9d4e95d",
   "metadata": {},
   "outputs": [],
   "source": [
    "df[\"date\"] = pd.to_datetime(df[\"date\"])\n",
    "df[\"customer_num\"] = df[\"customer_num\"].astype(\"Int64\")"
   ]
  },
  {
   "cell_type": "code",
   "execution_count": 284,
   "id": "fb2ad7bf",
   "metadata": {},
   "outputs": [
    {
     "name": "stdout",
     "output_type": "stream",
     "text": [
      "<class 'pandas.core.frame.DataFrame'>\n",
      "Index: 531150 entries, 0 to 536349\n",
      "Data columns (total 8 columns):\n",
      " #   Column           Non-Null Count   Dtype         \n",
      "---  ------           --------------   -----         \n",
      " 0   transaction_num  531150 non-null  object        \n",
      " 1   date             531150 non-null  datetime64[ns]\n",
      " 2   product_num      531150 non-null  object        \n",
      " 3   product_name     531150 non-null  object        \n",
      " 4   price            531150 non-null  float64       \n",
      " 5   quantity         531150 non-null  int64         \n",
      " 6   customer_num     531095 non-null  Int64         \n",
      " 7   country          531150 non-null  object        \n",
      "dtypes: Int64(1), datetime64[ns](1), float64(1), int64(1), object(4)\n",
      "memory usage: 37.0+ MB\n"
     ]
    }
   ],
   "source": [
    "df.info()"
   ]
  },
  {
   "cell_type": "markdown",
   "id": "3aea2850",
   "metadata": {},
   "source": [
    "3.4 Handling Missing Values"
   ]
  },
  {
   "cell_type": "code",
   "execution_count": 285,
   "id": "dd96ccfa",
   "metadata": {},
   "outputs": [
    {
     "data": {
      "text/plain": [
       "transaction_num     0\n",
       "date                0\n",
       "product_num         0\n",
       "product_name        0\n",
       "price               0\n",
       "quantity            0\n",
       "customer_num       55\n",
       "country             0\n",
       "dtype: int64"
      ]
     },
     "execution_count": 285,
     "metadata": {},
     "output_type": "execute_result"
    }
   ],
   "source": [
    "df.isna().sum()"
   ]
  },
  {
   "cell_type": "markdown",
   "id": "8e245aed",
   "metadata": {},
   "source": [
    "3.5 Dropping cancelled orders\n",
    "\n",
    "New DataFrame has been created called df_cleaned which removed both duplicated rows (original purchase and cancelled purchase)"
   ]
  },
  {
   "cell_type": "code",
   "execution_count": 286,
   "id": "8925ce27",
   "metadata": {},
   "outputs": [
    {
     "name": "stdout",
     "output_type": "stream",
     "text": [
      "(531150, 8)\n"
     ]
    },
    {
     "data": {
      "text/plain": [
       "(531150, 10)"
      ]
     },
     "execution_count": 302,
     "metadata": {},
     "output_type": "execute_result"
    }
   ],
   "source": [
    "df[\"no_C_transaction_num\"] = df[\"transaction_num\"].str.replace(\"C\", \"\", regex=False)\n",
    "df[\"abs_quantity\"] = df[\"quantity\"].abs()\n",
    "\n",
    "df[\"product_name\"] = df[\"product_name\"].str.lower().str.strip()\n",
    "df[\"price\"] = df[\"price\"].astype(float).round(2)\n",
    "\n",
    "# Creating new DataFrame (df_cleaned), removing all cancelled transaction (both the (+)quantity and (-)quantity)\n",
    "columns_to_identify_cancel_pairs = [\"product_name\", \"price\", \"customer_num\", \"abs_quantity\", \"no_C_transaction_num\"]\n",
    "dup_mask = df.duplicated(subset=columns_to_identify_cancel_pairs, keep=False)\n",
    "df_cleaned = df[~dup_mask].copy()\n",
    "\n",
    "df_cleaned.drop(columns=[\"abs_quantity\", \"no_C_transaction_num\"], inplace=True)\n",
    "\n",
    "print(df_cleaned.shape)\n",
    "df.shape\n",
    "\n"
   ]
  },
  {
   "cell_type": "markdown",
   "id": "0c3c34a7",
   "metadata": {},
   "source": [
    "Transactions with a transaction_num that starts with \"C\" and have negative quantity values do not always have a corresponding positive-quantity transaction with the same ID.\n",
    "\n",
    "Therefore, all records with negative quantity values will be dropped from the dataset, assuming they represent cancelled or returned orders.\n",
    "\n",
    "These cleaned records will be stored in the df_cleaned DataFrame for analysis."
   ]
  },
  {
   "cell_type": "code",
   "execution_count": 287,
   "id": "43442fbc",
   "metadata": {},
   "outputs": [
    {
     "data": {
      "text/html": [
       "<div>\n",
       "<style scoped>\n",
       "    .dataframe tbody tr th:only-of-type {\n",
       "        vertical-align: middle;\n",
       "    }\n",
       "\n",
       "    .dataframe tbody tr th {\n",
       "        vertical-align: top;\n",
       "    }\n",
       "\n",
       "    .dataframe thead th {\n",
       "        text-align: right;\n",
       "    }\n",
       "</style>\n",
       "<table border=\"1\" class=\"dataframe\">\n",
       "  <thead>\n",
       "    <tr style=\"text-align: right;\">\n",
       "      <th></th>\n",
       "      <th>date</th>\n",
       "      <th>price</th>\n",
       "      <th>quantity</th>\n",
       "      <th>customer_num</th>\n",
       "      <th>abs_quantity</th>\n",
       "    </tr>\n",
       "  </thead>\n",
       "  <tbody>\n",
       "    <tr>\n",
       "      <th>count</th>\n",
       "      <td>522602</td>\n",
       "      <td>522602.000000</td>\n",
       "      <td>522602.000000</td>\n",
       "      <td>522601.0</td>\n",
       "      <td>522602.000000</td>\n",
       "    </tr>\n",
       "    <tr>\n",
       "      <th>mean</th>\n",
       "      <td>2019-07-04 03:24:38.308923392</td>\n",
       "      <td>12.637155</td>\n",
       "      <td>10.667487</td>\n",
       "      <td>15226.311767</td>\n",
       "      <td>10.667487</td>\n",
       "    </tr>\n",
       "    <tr>\n",
       "      <th>min</th>\n",
       "      <td>2018-12-01 00:00:00</td>\n",
       "      <td>5.130000</td>\n",
       "      <td>1.000000</td>\n",
       "      <td>12004.0</td>\n",
       "      <td>1.000000</td>\n",
       "    </tr>\n",
       "    <tr>\n",
       "      <th>25%</th>\n",
       "      <td>2019-03-28 00:00:00</td>\n",
       "      <td>10.990000</td>\n",
       "      <td>1.000000</td>\n",
       "      <td>13804.0</td>\n",
       "      <td>1.000000</td>\n",
       "    </tr>\n",
       "    <tr>\n",
       "      <th>50%</th>\n",
       "      <td>2019-07-20 00:00:00</td>\n",
       "      <td>11.940000</td>\n",
       "      <td>4.000000</td>\n",
       "      <td>15152.0</td>\n",
       "      <td>4.000000</td>\n",
       "    </tr>\n",
       "    <tr>\n",
       "      <th>75%</th>\n",
       "      <td>2019-10-19 00:00:00</td>\n",
       "      <td>14.090000</td>\n",
       "      <td>12.000000</td>\n",
       "      <td>16729.0</td>\n",
       "      <td>12.000000</td>\n",
       "    </tr>\n",
       "    <tr>\n",
       "      <th>max</th>\n",
       "      <td>2019-12-09 00:00:00</td>\n",
       "      <td>660.620000</td>\n",
       "      <td>80995.000000</td>\n",
       "      <td>18287.0</td>\n",
       "      <td>80995.000000</td>\n",
       "    </tr>\n",
       "    <tr>\n",
       "      <th>std</th>\n",
       "      <td>NaN</td>\n",
       "      <td>7.965967</td>\n",
       "      <td>157.542269</td>\n",
       "      <td>1716.555479</td>\n",
       "      <td>157.542269</td>\n",
       "    </tr>\n",
       "  </tbody>\n",
       "</table>\n",
       "</div>"
      ],
      "text/plain": [
       "                                date          price       quantity  \\\n",
       "count                         522602  522602.000000  522602.000000   \n",
       "mean   2019-07-04 03:24:38.308923392      12.637155      10.667487   \n",
       "min              2018-12-01 00:00:00       5.130000       1.000000   \n",
       "25%              2019-03-28 00:00:00      10.990000       1.000000   \n",
       "50%              2019-07-20 00:00:00      11.940000       4.000000   \n",
       "75%              2019-10-19 00:00:00      14.090000      12.000000   \n",
       "max              2019-12-09 00:00:00     660.620000   80995.000000   \n",
       "std                              NaN       7.965967     157.542269   \n",
       "\n",
       "       customer_num   abs_quantity  \n",
       "count      522601.0  522602.000000  \n",
       "mean   15226.311767      10.667487  \n",
       "min         12004.0       1.000000  \n",
       "25%         13804.0       1.000000  \n",
       "50%         15152.0       4.000000  \n",
       "75%         16729.0      12.000000  \n",
       "max         18287.0   80995.000000  \n",
       "std     1716.555479     157.542269  "
      ]
     },
     "execution_count": 287,
     "metadata": {},
     "output_type": "execute_result"
    }
   ],
   "source": [
    "df_cleaned = df[df[\"quantity\"] > 0].copy()\n",
    "df_cleaned.describe()\n"
   ]
  },
  {
   "cell_type": "code",
   "execution_count": 288,
   "id": "68c8e6a1",
   "metadata": {},
   "outputs": [
    {
     "name": "stdout",
     "output_type": "stream",
     "text": [
      "<class 'pandas.core.frame.DataFrame'>\n",
      "RangeIndex: 522602 entries, 0 to 522601\n",
      "Data columns (total 10 columns):\n",
      " #   Column                Non-Null Count   Dtype         \n",
      "---  ------                --------------   -----         \n",
      " 0   transaction_num       522602 non-null  object        \n",
      " 1   date                  522602 non-null  datetime64[ns]\n",
      " 2   product_num           522602 non-null  object        \n",
      " 3   product_name          522602 non-null  object        \n",
      " 4   price                 522602 non-null  float64       \n",
      " 5   quantity              522602 non-null  int64         \n",
      " 6   customer_num          522601 non-null  Int64         \n",
      " 7   country               522602 non-null  object        \n",
      " 8   no_C_transaction_num  522602 non-null  object        \n",
      " 9   abs_quantity          522602 non-null  int64         \n",
      "dtypes: Int64(1), datetime64[ns](1), float64(1), int64(2), object(5)\n",
      "memory usage: 40.4+ MB\n"
     ]
    }
   ],
   "source": [
    "df_cleaned.reset_index(drop=True, inplace=True)\n",
    "df_cleaned.info()"
   ]
  },
  {
   "cell_type": "markdown",
   "id": "a2615566",
   "metadata": {},
   "source": [
    "### Step 4: Understanding the variables"
   ]
  },
  {
   "cell_type": "markdown",
   "id": "97a3ede3",
   "metadata": {},
   "source": [
    "\"transaction_num\": six-digit unique number that defines each transaction\n",
    "\n",
    "\"date\": date when each transaction was generated\n",
    "\n",
    "\"product_num\": five or six-digit unique character used to identify a specific product\n",
    "\n",
    "\"product_name\": product/item name\n",
    "\n",
    "\"price\": price of each product per unit in pound sterling\n",
    "\n",
    "\"quantity\": the quantity of each product per transaction\n",
    "\n",
    "\"customer_num\": five-digit unique number that defines each customer\n",
    "\n",
    "\"country\": name of the country where the customer resides\n"
   ]
  },
  {
   "cell_type": "markdown",
   "id": "fbd6231a",
   "metadata": {},
   "source": [
    "### Step 5: Univariate Analysis"
   ]
  },
  {
   "cell_type": "markdown",
   "id": "78f2bfd5",
   "metadata": {},
   "source": [
    "5.1 Distribution of Prices"
   ]
  },
  {
   "cell_type": "code",
   "execution_count": 289,
   "id": "cf86e982",
   "metadata": {},
   "outputs": [
    {
     "data": {
      "image/png": "[encoded data removed]",
      "text/plain": [
       "<Figure size 800x300 with 1 Axes>"
      ]
     },
     "metadata": {},
     "output_type": "display_data"
    }
   ],
   "source": [
    "data_price = df_cleaned[\"price\"]\n",
    "plt.figure(figsize=(8,3))\n",
    "plt.hist(data_price, bins=1000, color=\"skyblue\", edgecolor=\"black\", alpha=0.80, density=True)\n",
    "plt.title(\"Distribution of Prices\")\n",
    "plt.xlabel(\"Price\")\n",
    "plt.ylabel(\"Frequency\")\n",
    "plt.grid(True)\n",
    "plt.show()"
   ]
  },
  {
   "cell_type": "markdown",
   "id": "d62986c9",
   "metadata": {},
   "source": [
    "5.2 Boxplot of Price"
   ]
  },
  {
   "cell_type": "code",
   "execution_count": 290,
   "id": "f356e392",
   "metadata": {},
   "outputs": [
    {
     "data": {
      "image/png": "[encoded data removed]",
      "text/plain": [
       "<Figure size 640x480 with 1 Axes>"
      ]
     },
     "metadata": {},
     "output_type": "display_data"
    }
   ],
   "source": [
    "plt.boxplot(data_price)\n",
    "plt.title(\"Boxplot of Price\")\n",
    "plt.show()"
   ]
  },
  {
   "cell_type": "markdown",
   "id": "bb57086f",
   "metadata": {},
   "source": [
    "5.3 Distribution of Quantity"
   ]
  },
  {
   "cell_type": "code",
   "execution_count": 291,
   "id": "8be805db",
   "metadata": {},
   "outputs": [
    {
     "data": {
      "image/png": "[encoded data removed]",
      "text/plain": [
       "<Figure size 800x500 with 1 Axes>"
      ]
     },
     "metadata": {},
     "output_type": "display_data"
    }
   ],
   "source": [
    "data_quantity = df_cleaned[\"quantity\"]\n",
    "plt.figure(figsize=(8, 5))\n",
    "plt.hist(data_quantity, bins=20, color=\"skyblue\", edgecolor=\"black\", alpha=0.8)\n",
    "plt.title(\"Distribution of Quantity\")\n",
    "plt.xlabel(\"Quantity\")\n",
    "plt.ylabel(\"Frequency\")\n",
    "plt.grid(\"True\")\n",
    "plt.show()"
   ]
  },
  {
   "cell_type": "markdown",
   "id": "5152f48b",
   "metadata": {},
   "source": [
    "5.4 Boxplot of Quantity"
   ]
  },
  {
   "cell_type": "code",
   "execution_count": 292,
   "id": "aef5a2c6",
   "metadata": {},
   "outputs": [
    {
     "data": {
      "image/png": "[encoded data removed]",
      "text/plain": [
       "<Figure size 640x480 with 1 Axes>"
      ]
     },
     "metadata": {},
     "output_type": "display_data"
    }
   ],
   "source": [
    "plt.boxplot(data_quantity)\n",
    "plt.title(\"Boxplot of Quantity\")\n",
    "plt.show()"
   ]
  },
  {
   "cell_type": "markdown",
   "id": "c5888bf0",
   "metadata": {},
   "source": [
    "5.5 Number of unique values per categorical variables"
   ]
  },
  {
   "cell_type": "code",
   "execution_count": null,
   "id": "350fad7a",
   "metadata": {},
   "outputs": [
    {
     "name": "stdout",
     "output_type": "stream",
     "text": [
      "Number of unique 'product_num': 3768\n",
      "Number of unique 'product_name': 3768\n",
      "Number of unique 'customer_num': 4738\n",
      "Number of unique 'country': 38\n"
     ]
    }
   ],
   "source": [
    "print(f\"Number of unique 'product_num': {df_cleaned[\"product_num\"].nunique()}\")\n",
    "print(f\"Number of unique 'product_name': {df_cleaned[\"product_name\"].nunique()}\")\n",
    "print(f\"Number of unique 'customer_num': {df_cleaned[\"customer_num\"].nunique()}\")\n",
    "print(f\"Number of unique 'country': {df_cleaned[\"country\"].nunique()}\")\n"
   ]
  },
  {
   "cell_type": "markdown",
   "id": "79cfc2d6",
   "metadata": {},
   "source": [
    "5.6 Top 10 Country by Frequency"
   ]
  },
  {
   "cell_type": "code",
   "execution_count": 319,
   "id": "4a34cb3d",
   "metadata": {},
   "outputs": [
    {
     "data": {
      "image/png": "[encoded data removed]",
      "text/plain": [
       "<Figure size 640x480 with 1 Axes>"
      ]
     },
     "metadata": {},
     "output_type": "display_data"
    }
   ],
   "source": [
    "data_country = df_cleaned[\"country\"].value_counts().sort_values(ascending=True).tail(10)\n",
    "data_country.plot(kind=\"barh\")\n",
    "plt.title(\"Top 10 Country by Frequency\")\n",
    "plt.xlabel('Country')\n",
    "plt.ylabel('Count')\n",
    "plt.grid(True)\n",
    "plt.show()\n"
   ]
  },
  {
   "cell_type": "code",
   "execution_count": 316,
   "id": "124e1b64",
   "metadata": {},
   "outputs": [
    {
     "data": {
      "text/html": [
       "<div>\n",
       "<style scoped>\n",
       "    .dataframe tbody tr th:only-of-type {\n",
       "        vertical-align: middle;\n",
       "    }\n",
       "\n",
       "    .dataframe tbody tr th {\n",
       "        vertical-align: top;\n",
       "    }\n",
       "\n",
       "    .dataframe thead th {\n",
       "        text-align: right;\n",
       "    }\n",
       "</style>\n",
       "<table border=\"1\" class=\"dataframe\">\n",
       "  <thead>\n",
       "    <tr style=\"text-align: right;\">\n",
       "      <th></th>\n",
       "      <th>date</th>\n",
       "      <th>price</th>\n",
       "      <th>quantity</th>\n",
       "      <th>customer_num</th>\n",
       "    </tr>\n",
       "  </thead>\n",
       "  <tbody>\n",
       "    <tr>\n",
       "      <th>count</th>\n",
       "      <td>531150</td>\n",
       "      <td>531150.000000</td>\n",
       "      <td>531150.000000</td>\n",
       "      <td>531095.0</td>\n",
       "    </tr>\n",
       "    <tr>\n",
       "      <th>mean</th>\n",
       "      <td>2019-07-04 00:23:47.393391616</td>\n",
       "      <td>12.669787</td>\n",
       "      <td>9.988540</td>\n",
       "      <td>15222.612241</td>\n",
       "    </tr>\n",
       "    <tr>\n",
       "      <th>min</th>\n",
       "      <td>2018-12-01 00:00:00</td>\n",
       "      <td>5.130000</td>\n",
       "      <td>-80995.000000</td>\n",
       "      <td>12004.0</td>\n",
       "    </tr>\n",
       "    <tr>\n",
       "      <th>25%</th>\n",
       "      <td>2019-03-28 00:00:00</td>\n",
       "      <td>10.990000</td>\n",
       "      <td>1.000000</td>\n",
       "      <td>13798.0</td>\n",
       "    </tr>\n",
       "    <tr>\n",
       "      <th>50%</th>\n",
       "      <td>2019-07-20 00:00:00</td>\n",
       "      <td>11.940000</td>\n",
       "      <td>3.000000</td>\n",
       "      <td>15146.0</td>\n",
       "    </tr>\n",
       "    <tr>\n",
       "      <th>75%</th>\n",
       "      <td>2019-10-19 00:00:00</td>\n",
       "      <td>14.090000</td>\n",
       "      <td>10.000000</td>\n",
       "      <td>16727.0</td>\n",
       "    </tr>\n",
       "    <tr>\n",
       "      <th>max</th>\n",
       "      <td>2019-12-09 00:00:00</td>\n",
       "      <td>660.620000</td>\n",
       "      <td>80995.000000</td>\n",
       "      <td>18287.0</td>\n",
       "    </tr>\n",
       "    <tr>\n",
       "      <th>std</th>\n",
       "      <td>NaN</td>\n",
       "      <td>8.525988</td>\n",
       "      <td>217.700768</td>\n",
       "      <td>1716.633588</td>\n",
       "    </tr>\n",
       "  </tbody>\n",
       "</table>\n",
       "</div>"
      ],
      "text/plain": [
       "                                date          price       quantity  \\\n",
       "count                         531150  531150.000000  531150.000000   \n",
       "mean   2019-07-04 00:23:47.393391616      12.669787       9.988540   \n",
       "min              2018-12-01 00:00:00       5.130000  -80995.000000   \n",
       "25%              2019-03-28 00:00:00      10.990000       1.000000   \n",
       "50%              2019-07-20 00:00:00      11.940000       3.000000   \n",
       "75%              2019-10-19 00:00:00      14.090000      10.000000   \n",
       "max              2019-12-09 00:00:00     660.620000   80995.000000   \n",
       "std                              NaN       8.525988     217.700768   \n",
       "\n",
       "       customer_num  \n",
       "count      531095.0  \n",
       "mean   15222.612241  \n",
       "min         12004.0  \n",
       "25%         13798.0  \n",
       "50%         15146.0  \n",
       "75%         16727.0  \n",
       "max         18287.0  \n",
       "std     1716.633588  "
      ]
     },
     "execution_count": 316,
     "metadata": {},
     "output_type": "execute_result"
    }
   ],
   "source": [
    "df_cleaned.describe()\n",
    "\n"
   ]
  },
  {
   "cell_type": "markdown",
   "id": "1a717892",
   "metadata": {},
   "source": [
    "5.7 Top 10 product name"
   ]
  },
  {
   "cell_type": "code",
   "execution_count": 315,
   "id": "2802e23f",
   "metadata": {},
   "outputs": [
    {
     "name": "stdout",
     "output_type": "stream",
     "text": [
      "<class 'pandas.core.frame.DataFrame'>\n",
      "Index: 531150 entries, 0 to 536349\n",
      "Data columns (total 8 columns):\n",
      " #   Column           Non-Null Count   Dtype         \n",
      "---  ------           --------------   -----         \n",
      " 0   transaction_num  531150 non-null  object        \n",
      " 1   date             531150 non-null  datetime64[ns]\n",
      " 2   product_num      531150 non-null  object        \n",
      " 3   product_name     531150 non-null  object        \n",
      " 4   price            531150 non-null  float64       \n",
      " 5   quantity         531150 non-null  int64         \n",
      " 6   customer_num     531095 non-null  Int64         \n",
      " 7   country          531150 non-null  object        \n",
      "dtypes: Int64(1), datetime64[ns](1), float64(1), int64(1), object(4)\n",
      "memory usage: 37.0+ MB\n"
     ]
    }
   ],
   "source": [
    "df_cleaned.info()"
   ]
  },
  {
   "cell_type": "code",
   "execution_count": null,
   "id": "e1c1975f",
   "metadata": {},
   "outputs": [],
   "source": []
  }
 ],
 "metadata": {
  "kernelspec": {
   "display_name": "venv",
   "language": "python",
   "name": "python3"
  },
  "language_info": {
   "codemirror_mode": {
    "name": "ipython",
    "version": 3
   },
   "file_extension": ".py",
   "mimetype": "text/x-python",
   "name": "python",
   "nbconvert_exporter": "python",
   "pygments_lexer": "ipython3",
   "version": "3.12.4"
  }
 },
 "nbformat": 4,
 "nbformat_minor": 5
}
