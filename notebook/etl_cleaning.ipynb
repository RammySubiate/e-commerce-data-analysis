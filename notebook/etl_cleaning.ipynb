{
 "cells": [
  {
   "cell_type": "markdown",
   "id": "984c6918",
   "metadata": {},
   "source": [
    "# Business Analytics Dashboard"
   ]
  },
  {
   "cell_type": "markdown",
   "id": "5ddc81c5",
   "metadata": {},
   "source": [
    "### What the stakeholders want to know:\n",
    "1. What are our best-selling products?\n",
    "\n",
    "2. Which products generate the most revenue or are sold most frequently?\n",
    "\n",
    "3. Who are our top customers?\n",
    "\n",
    "4. Which customers are buying the most? Can we identify loyal or high-value customers?\n",
    "\n",
    "5. What’s our revenue trend over time?\n",
    "\n",
    "6. Are sales increasing or decreasing month by month?\n",
    "\n",
    "7. Are there seasonal patterns?\n",
    "\n",
    "8. Are certain products or purchases peaking during holidays or specific months?\n",
    "\n",
    "9. Which countries bring in the most sales?\n",
    "\n",
    "10. I see \"United Kingdom\" — are we selling to other countries too? Should we expand or focus on key regions?\n",
    "\n",
    "11. How much are customers typically spending per transaction?\n",
    "\n",
    "12. Can we improve this through upselling or promotions?\n",
    "\n",
    "\n",
    "### As an analyst, how you can help me:\n",
    "\n",
    "1. Create simple dashboards or reports with:\n",
    "\n",
    "2. Top-selling products and total revenue.\n",
    "\n",
    "3. Revenue trends by month or quarter.\n",
    "\n",
    "4. Customer segmentation (e.g., high-spenders vs. one-time buyers).\n",
    "\n",
    "5. Geographic distribution of customers.\n",
    "\n",
    "\n",
    "## Recommend actions:\n",
    "\n",
    "\"Based on this, we could run promotions on our best-sellers...\"\n",
    "\n",
    "\"We might want to reward our top customers with loyalty programs.\"\n",
    "\n",
    "Translate data into decisions, not just charts:\n",
    "\n",
    "Don’t show me just graphs. Tell me what to do with the insights."
   ]
  },
  {
   "cell_type": "markdown",
   "id": "cafdce51",
   "metadata": {},
   "source": [
    "Data source: https://www.kaggle.com/datasets/gabrielramos87/an-online-shop-business"
   ]
  },
  {
   "cell_type": "code",
   "execution_count": 1,
   "id": "7e34baca",
   "metadata": {},
   "outputs": [],
   "source": [
    "#setup\n",
    "import pandas as pd\n",
    "import matplotlib.pyplot as plt\n",
    "import numpy as np"
   ]
  },
  {
   "cell_type": "code",
   "execution_count": 2,
   "id": "efa57fac",
   "metadata": {},
   "outputs": [
    {
     "data": {
      "text/html": [
       "<div>\n",
       "<style scoped>\n",
       "    .dataframe tbody tr th:only-of-type {\n",
       "        vertical-align: middle;\n",
       "    }\n",
       "\n",
       "    .dataframe tbody tr th {\n",
       "        vertical-align: top;\n",
       "    }\n",
       "\n",
       "    .dataframe thead th {\n",
       "        text-align: right;\n",
       "    }\n",
       "</style>\n",
       "<table border=\"1\" class=\"dataframe\">\n",
       "  <thead>\n",
       "    <tr style=\"text-align: right;\">\n",
       "      <th></th>\n",
       "      <th>TransactionNo</th>\n",
       "      <th>Date</th>\n",
       "      <th>ProductNo</th>\n",
       "      <th>ProductName</th>\n",
       "      <th>Price</th>\n",
       "      <th>Quantity</th>\n",
       "      <th>CustomerNo</th>\n",
       "      <th>Country</th>\n",
       "    </tr>\n",
       "  </thead>\n",
       "  <tbody>\n",
       "    <tr>\n",
       "      <th>0</th>\n",
       "      <td>581482</td>\n",
       "      <td>12/9/2019</td>\n",
       "      <td>22485</td>\n",
       "      <td>Set Of 2 Wooden Market Crates</td>\n",
       "      <td>21.47</td>\n",
       "      <td>12</td>\n",
       "      <td>17490.0</td>\n",
       "      <td>United Kingdom</td>\n",
       "    </tr>\n",
       "    <tr>\n",
       "      <th>1</th>\n",
       "      <td>581475</td>\n",
       "      <td>12/9/2019</td>\n",
       "      <td>22596</td>\n",
       "      <td>Christmas Star Wish List Chalkboard</td>\n",
       "      <td>10.65</td>\n",
       "      <td>36</td>\n",
       "      <td>13069.0</td>\n",
       "      <td>United Kingdom</td>\n",
       "    </tr>\n",
       "    <tr>\n",
       "      <th>2</th>\n",
       "      <td>581475</td>\n",
       "      <td>12/9/2019</td>\n",
       "      <td>23235</td>\n",
       "      <td>Storage Tin Vintage Leaf</td>\n",
       "      <td>11.53</td>\n",
       "      <td>12</td>\n",
       "      <td>13069.0</td>\n",
       "      <td>United Kingdom</td>\n",
       "    </tr>\n",
       "    <tr>\n",
       "      <th>3</th>\n",
       "      <td>581475</td>\n",
       "      <td>12/9/2019</td>\n",
       "      <td>23272</td>\n",
       "      <td>Tree T-Light Holder Willie Winkie</td>\n",
       "      <td>10.65</td>\n",
       "      <td>12</td>\n",
       "      <td>13069.0</td>\n",
       "      <td>United Kingdom</td>\n",
       "    </tr>\n",
       "    <tr>\n",
       "      <th>4</th>\n",
       "      <td>581475</td>\n",
       "      <td>12/9/2019</td>\n",
       "      <td>23239</td>\n",
       "      <td>Set Of 4 Knick Knack Tins Poppies</td>\n",
       "      <td>11.94</td>\n",
       "      <td>6</td>\n",
       "      <td>13069.0</td>\n",
       "      <td>United Kingdom</td>\n",
       "    </tr>\n",
       "  </tbody>\n",
       "</table>\n",
       "</div>"
      ],
      "text/plain": [
       "  TransactionNo       Date ProductNo                          ProductName  \\\n",
       "0        581482  12/9/2019     22485        Set Of 2 Wooden Market Crates   \n",
       "1        581475  12/9/2019     22596  Christmas Star Wish List Chalkboard   \n",
       "2        581475  12/9/2019     23235             Storage Tin Vintage Leaf   \n",
       "3        581475  12/9/2019     23272    Tree T-Light Holder Willie Winkie   \n",
       "4        581475  12/9/2019     23239    Set Of 4 Knick Knack Tins Poppies   \n",
       "\n",
       "   Price  Quantity  CustomerNo         Country  \n",
       "0  21.47        12     17490.0  United Kingdom  \n",
       "1  10.65        36     13069.0  United Kingdom  \n",
       "2  11.53        12     13069.0  United Kingdom  \n",
       "3  10.65        12     13069.0  United Kingdom  \n",
       "4  11.94         6     13069.0  United Kingdom  "
      ]
     },
     "execution_count": 2,
     "metadata": {},
     "output_type": "execute_result"
    }
   ],
   "source": [
    "file_path = \"/Users/ramilojr.subiate/Documents/FILES/etl-to-dashboard/kaggle_data/sales_transaction.csv\"\n",
    "df = pd.read_csv(file_path)\n",
    "\n",
    "#Preview\n",
    "df.head()"
   ]
  },
  {
   "cell_type": "markdown",
   "id": "a9ad7252",
   "metadata": {},
   "source": [
    "### Renaming Column Names"
   ]
  },
  {
   "cell_type": "code",
   "execution_count": 3,
   "id": "0f4e9fe2",
   "metadata": {},
   "outputs": [
    {
     "data": {
      "text/html": [
       "<div>\n",
       "<style scoped>\n",
       "    .dataframe tbody tr th:only-of-type {\n",
       "        vertical-align: middle;\n",
       "    }\n",
       "\n",
       "    .dataframe tbody tr th {\n",
       "        vertical-align: top;\n",
       "    }\n",
       "\n",
       "    .dataframe thead th {\n",
       "        text-align: right;\n",
       "    }\n",
       "</style>\n",
       "<table border=\"1\" class=\"dataframe\">\n",
       "  <thead>\n",
       "    <tr style=\"text-align: right;\">\n",
       "      <th></th>\n",
       "      <th>transaction_num</th>\n",
       "      <th>date</th>\n",
       "      <th>product_num</th>\n",
       "      <th>product_name</th>\n",
       "      <th>price</th>\n",
       "      <th>quantity</th>\n",
       "      <th>customer_num</th>\n",
       "      <th>country</th>\n",
       "    </tr>\n",
       "  </thead>\n",
       "  <tbody>\n",
       "    <tr>\n",
       "      <th>0</th>\n",
       "      <td>581482</td>\n",
       "      <td>12/9/2019</td>\n",
       "      <td>22485</td>\n",
       "      <td>Set Of 2 Wooden Market Crates</td>\n",
       "      <td>21.47</td>\n",
       "      <td>12</td>\n",
       "      <td>17490.0</td>\n",
       "      <td>United Kingdom</td>\n",
       "    </tr>\n",
       "    <tr>\n",
       "      <th>1</th>\n",
       "      <td>581475</td>\n",
       "      <td>12/9/2019</td>\n",
       "      <td>22596</td>\n",
       "      <td>Christmas Star Wish List Chalkboard</td>\n",
       "      <td>10.65</td>\n",
       "      <td>36</td>\n",
       "      <td>13069.0</td>\n",
       "      <td>United Kingdom</td>\n",
       "    </tr>\n",
       "    <tr>\n",
       "      <th>2</th>\n",
       "      <td>581475</td>\n",
       "      <td>12/9/2019</td>\n",
       "      <td>23235</td>\n",
       "      <td>Storage Tin Vintage Leaf</td>\n",
       "      <td>11.53</td>\n",
       "      <td>12</td>\n",
       "      <td>13069.0</td>\n",
       "      <td>United Kingdom</td>\n",
       "    </tr>\n",
       "    <tr>\n",
       "      <th>3</th>\n",
       "      <td>581475</td>\n",
       "      <td>12/9/2019</td>\n",
       "      <td>23272</td>\n",
       "      <td>Tree T-Light Holder Willie Winkie</td>\n",
       "      <td>10.65</td>\n",
       "      <td>12</td>\n",
       "      <td>13069.0</td>\n",
       "      <td>United Kingdom</td>\n",
       "    </tr>\n",
       "    <tr>\n",
       "      <th>4</th>\n",
       "      <td>581475</td>\n",
       "      <td>12/9/2019</td>\n",
       "      <td>23239</td>\n",
       "      <td>Set Of 4 Knick Knack Tins Poppies</td>\n",
       "      <td>11.94</td>\n",
       "      <td>6</td>\n",
       "      <td>13069.0</td>\n",
       "      <td>United Kingdom</td>\n",
       "    </tr>\n",
       "  </tbody>\n",
       "</table>\n",
       "</div>"
      ],
      "text/plain": [
       "  transaction_num       date product_num                         product_name  \\\n",
       "0          581482  12/9/2019       22485        Set Of 2 Wooden Market Crates   \n",
       "1          581475  12/9/2019       22596  Christmas Star Wish List Chalkboard   \n",
       "2          581475  12/9/2019       23235             Storage Tin Vintage Leaf   \n",
       "3          581475  12/9/2019       23272    Tree T-Light Holder Willie Winkie   \n",
       "4          581475  12/9/2019       23239    Set Of 4 Knick Knack Tins Poppies   \n",
       "\n",
       "   price  quantity  customer_num         country  \n",
       "0  21.47        12       17490.0  United Kingdom  \n",
       "1  10.65        36       13069.0  United Kingdom  \n",
       "2  11.53        12       13069.0  United Kingdom  \n",
       "3  10.65        12       13069.0  United Kingdom  \n",
       "4  11.94         6       13069.0  United Kingdom  "
      ]
     },
     "execution_count": 3,
     "metadata": {},
     "output_type": "execute_result"
    }
   ],
   "source": [
    "df.rename(columns={\"TransactionNo\":\"transaction_num\", \"Date\":\"date\",\n",
    "                   \"ProductNo\":\"product_num\",\"ProductName\":\"product_name\",\n",
    "                   \"Price\":\"price\", \"Quantity\":\"quantity\",\n",
    "                   \"CustomerNo\":\"customer_num\", \"Country\":\"country\"}, inplace=True)\n",
    "df.head()"
   ]
  },
  {
   "cell_type": "markdown",
   "id": "ddb96737",
   "metadata": {},
   "source": [
    "## Data Quality"
   ]
  },
  {
   "cell_type": "code",
   "execution_count": 4,
   "id": "d5fdd69d",
   "metadata": {},
   "outputs": [
    {
     "name": "stdout",
     "output_type": "stream",
     "text": [
      "<class 'pandas.core.frame.DataFrame'>\n",
      "RangeIndex: 536350 entries, 0 to 536349\n",
      "Data columns (total 8 columns):\n",
      " #   Column           Non-Null Count   Dtype  \n",
      "---  ------           --------------   -----  \n",
      " 0   transaction_num  536350 non-null  object \n",
      " 1   date             536350 non-null  object \n",
      " 2   product_num      536350 non-null  object \n",
      " 3   product_name     536350 non-null  object \n",
      " 4   price            536350 non-null  float64\n",
      " 5   quantity         536350 non-null  int64  \n",
      " 6   customer_num     536295 non-null  float64\n",
      " 7   country          536350 non-null  object \n",
      "dtypes: float64(2), int64(1), object(5)\n",
      "memory usage: 32.7+ MB\n"
     ]
    }
   ],
   "source": [
    "df.info()"
   ]
  },
  {
   "cell_type": "markdown",
   "id": "f5ab9f5f",
   "metadata": {},
   "source": [
    "### Converting date to datetime object"
   ]
  },
  {
   "cell_type": "code",
   "execution_count": 5,
   "id": "b03342a6",
   "metadata": {},
   "outputs": [
    {
     "name": "stdout",
     "output_type": "stream",
     "text": [
      "<class 'pandas.core.frame.DataFrame'>\n",
      "RangeIndex: 536350 entries, 0 to 536349\n",
      "Data columns (total 8 columns):\n",
      " #   Column           Non-Null Count   Dtype         \n",
      "---  ------           --------------   -----         \n",
      " 0   transaction_num  536350 non-null  object        \n",
      " 1   date             536350 non-null  datetime64[ns]\n",
      " 2   product_num      536350 non-null  object        \n",
      " 3   product_name     536350 non-null  object        \n",
      " 4   price            536350 non-null  float64       \n",
      " 5   quantity         536350 non-null  int64         \n",
      " 6   customer_num     536295 non-null  float64       \n",
      " 7   country          536350 non-null  object        \n",
      "dtypes: datetime64[ns](1), float64(2), int64(1), object(4)\n",
      "memory usage: 32.7+ MB\n"
     ]
    }
   ],
   "source": [
    "df[\"date\"] = pd.to_datetime(df[\"date\"])\n",
    "df.info()"
   ]
  },
  {
   "cell_type": "markdown",
   "id": "a3d72d4a",
   "metadata": {},
   "source": [
    "### Checking missing values"
   ]
  },
  {
   "cell_type": "code",
   "execution_count": 6,
   "id": "c0195a9d",
   "metadata": {},
   "outputs": [
    {
     "data": {
      "text/plain": [
       "transaction_num     0\n",
       "date                0\n",
       "product_num         0\n",
       "product_name        0\n",
       "price               0\n",
       "quantity            0\n",
       "customer_num       55\n",
       "country             0\n",
       "dtype: int64"
      ]
     },
     "execution_count": 6,
     "metadata": {},
     "output_type": "execute_result"
    }
   ],
   "source": [
    "df.isna().sum()"
   ]
  },
  {
   "cell_type": "code",
   "execution_count": 7,
   "id": "2a589aef",
   "metadata": {},
   "outputs": [
    {
     "data": {
      "text/plain": [
       "transaction_num    0\n",
       "date               0\n",
       "product_num        0\n",
       "product_name       0\n",
       "price              0\n",
       "quantity           0\n",
       "customer_num       0\n",
       "country            0\n",
       "dtype: int64"
      ]
     },
     "execution_count": 7,
     "metadata": {},
     "output_type": "execute_result"
    }
   ],
   "source": [
    "df.fillna(0, inplace=True)\n",
    "df.isna().sum()"
   ]
  },
  {
   "cell_type": "markdown",
   "id": "5d91d67f",
   "metadata": {},
   "source": [
    "### Checking duplicates"
   ]
  },
  {
   "cell_type": "code",
   "execution_count": 8,
   "id": "a043a3b1",
   "metadata": {},
   "outputs": [
    {
     "data": {
      "text/plain": [
       "np.int64(5200)"
      ]
     },
     "execution_count": 8,
     "metadata": {},
     "output_type": "execute_result"
    }
   ],
   "source": [
    "df.duplicated().sum()"
   ]
  },
  {
   "cell_type": "code",
   "execution_count": 9,
   "id": "5f6a6278",
   "metadata": {},
   "outputs": [
    {
     "name": "stdout",
     "output_type": "stream",
     "text": [
      "duplicates: 0\n",
      "<class 'pandas.core.frame.DataFrame'>\n",
      "RangeIndex: 531150 entries, 0 to 531149\n",
      "Data columns (total 8 columns):\n",
      " #   Column           Non-Null Count   Dtype         \n",
      "---  ------           --------------   -----         \n",
      " 0   transaction_num  531150 non-null  object        \n",
      " 1   date             531150 non-null  datetime64[ns]\n",
      " 2   product_num      531150 non-null  object        \n",
      " 3   product_name     531150 non-null  object        \n",
      " 4   price            531150 non-null  float64       \n",
      " 5   quantity         531150 non-null  int64         \n",
      " 6   customer_num     531150 non-null  float64       \n",
      " 7   country          531150 non-null  object        \n",
      "dtypes: datetime64[ns](1), float64(2), int64(1), object(4)\n",
      "memory usage: 32.4+ MB\n"
     ]
    }
   ],
   "source": [
    "df.drop_duplicates(ignore_index=True, inplace=True)\n",
    "print(f\"duplicates: {df.duplicated().sum()}\")\n",
    "df.info()"
   ]
  },
  {
   "cell_type": "code",
   "execution_count": 10,
   "id": "4497b56c",
   "metadata": {},
   "outputs": [
    {
     "data": {
      "text/html": [
       "<div>\n",
       "<style scoped>\n",
       "    .dataframe tbody tr th:only-of-type {\n",
       "        vertical-align: middle;\n",
       "    }\n",
       "\n",
       "    .dataframe tbody tr th {\n",
       "        vertical-align: top;\n",
       "    }\n",
       "\n",
       "    .dataframe thead th {\n",
       "        text-align: right;\n",
       "    }\n",
       "</style>\n",
       "<table border=\"1\" class=\"dataframe\">\n",
       "  <thead>\n",
       "    <tr style=\"text-align: right;\">\n",
       "      <th></th>\n",
       "      <th>transaction_num</th>\n",
       "      <th>date</th>\n",
       "      <th>product_num</th>\n",
       "      <th>product_name</th>\n",
       "      <th>price</th>\n",
       "      <th>quantity</th>\n",
       "      <th>customer_num</th>\n",
       "      <th>country</th>\n",
       "    </tr>\n",
       "  </thead>\n",
       "  <tbody>\n",
       "    <tr>\n",
       "      <th>0</th>\n",
       "      <td>581482</td>\n",
       "      <td>2019-12-09</td>\n",
       "      <td>22485</td>\n",
       "      <td>Set Of 2 Wooden Market Crates</td>\n",
       "      <td>21.47</td>\n",
       "      <td>12</td>\n",
       "      <td>17490.0</td>\n",
       "      <td>United Kingdom</td>\n",
       "    </tr>\n",
       "    <tr>\n",
       "      <th>1</th>\n",
       "      <td>581475</td>\n",
       "      <td>2019-12-09</td>\n",
       "      <td>22596</td>\n",
       "      <td>Christmas Star Wish List Chalkboard</td>\n",
       "      <td>10.65</td>\n",
       "      <td>36</td>\n",
       "      <td>13069.0</td>\n",
       "      <td>United Kingdom</td>\n",
       "    </tr>\n",
       "    <tr>\n",
       "      <th>2</th>\n",
       "      <td>581475</td>\n",
       "      <td>2019-12-09</td>\n",
       "      <td>23235</td>\n",
       "      <td>Storage Tin Vintage Leaf</td>\n",
       "      <td>11.53</td>\n",
       "      <td>12</td>\n",
       "      <td>13069.0</td>\n",
       "      <td>United Kingdom</td>\n",
       "    </tr>\n",
       "    <tr>\n",
       "      <th>3</th>\n",
       "      <td>581475</td>\n",
       "      <td>2019-12-09</td>\n",
       "      <td>23272</td>\n",
       "      <td>Tree T-Light Holder Willie Winkie</td>\n",
       "      <td>10.65</td>\n",
       "      <td>12</td>\n",
       "      <td>13069.0</td>\n",
       "      <td>United Kingdom</td>\n",
       "    </tr>\n",
       "    <tr>\n",
       "      <th>4</th>\n",
       "      <td>581475</td>\n",
       "      <td>2019-12-09</td>\n",
       "      <td>23239</td>\n",
       "      <td>Set Of 4 Knick Knack Tins Poppies</td>\n",
       "      <td>11.94</td>\n",
       "      <td>6</td>\n",
       "      <td>13069.0</td>\n",
       "      <td>United Kingdom</td>\n",
       "    </tr>\n",
       "  </tbody>\n",
       "</table>\n",
       "</div>"
      ],
      "text/plain": [
       "  transaction_num       date product_num                         product_name  \\\n",
       "0          581482 2019-12-09       22485        Set Of 2 Wooden Market Crates   \n",
       "1          581475 2019-12-09       22596  Christmas Star Wish List Chalkboard   \n",
       "2          581475 2019-12-09       23235             Storage Tin Vintage Leaf   \n",
       "3          581475 2019-12-09       23272    Tree T-Light Holder Willie Winkie   \n",
       "4          581475 2019-12-09       23239    Set Of 4 Knick Knack Tins Poppies   \n",
       "\n",
       "   price  quantity  customer_num         country  \n",
       "0  21.47        12       17490.0  United Kingdom  \n",
       "1  10.65        36       13069.0  United Kingdom  \n",
       "2  11.53        12       13069.0  United Kingdom  \n",
       "3  10.65        12       13069.0  United Kingdom  \n",
       "4  11.94         6       13069.0  United Kingdom  "
      ]
     },
     "execution_count": 10,
     "metadata": {},
     "output_type": "execute_result"
    }
   ],
   "source": [
    "df.head()"
   ]
  },
  {
   "cell_type": "code",
   "execution_count": 11,
   "id": "b36fe6c6",
   "metadata": {},
   "outputs": [
    {
     "data": {
      "text/html": [
       "<div>\n",
       "<style scoped>\n",
       "    .dataframe tbody tr th:only-of-type {\n",
       "        vertical-align: middle;\n",
       "    }\n",
       "\n",
       "    .dataframe tbody tr th {\n",
       "        vertical-align: top;\n",
       "    }\n",
       "\n",
       "    .dataframe thead th {\n",
       "        text-align: right;\n",
       "    }\n",
       "</style>\n",
       "<table border=\"1\" class=\"dataframe\">\n",
       "  <thead>\n",
       "    <tr style=\"text-align: right;\">\n",
       "      <th></th>\n",
       "      <th>date</th>\n",
       "      <th>price</th>\n",
       "      <th>quantity</th>\n",
       "      <th>customer_num</th>\n",
       "    </tr>\n",
       "  </thead>\n",
       "  <tbody>\n",
       "    <tr>\n",
       "      <th>count</th>\n",
       "      <td>531150</td>\n",
       "      <td>531150.000000</td>\n",
       "      <td>531150.000000</td>\n",
       "      <td>531150.000000</td>\n",
       "    </tr>\n",
       "    <tr>\n",
       "      <th>mean</th>\n",
       "      <td>2019-07-04 00:23:47.393391616</td>\n",
       "      <td>12.669787</td>\n",
       "      <td>9.988540</td>\n",
       "      <td>15221.035956</td>\n",
       "    </tr>\n",
       "    <tr>\n",
       "      <th>min</th>\n",
       "      <td>2018-12-01 00:00:00</td>\n",
       "      <td>5.130000</td>\n",
       "      <td>-80995.000000</td>\n",
       "      <td>0.000000</td>\n",
       "    </tr>\n",
       "    <tr>\n",
       "      <th>25%</th>\n",
       "      <td>2019-03-28 00:00:00</td>\n",
       "      <td>10.990000</td>\n",
       "      <td>1.000000</td>\n",
       "      <td>13798.000000</td>\n",
       "    </tr>\n",
       "    <tr>\n",
       "      <th>50%</th>\n",
       "      <td>2019-07-20 00:00:00</td>\n",
       "      <td>11.940000</td>\n",
       "      <td>3.000000</td>\n",
       "      <td>15146.000000</td>\n",
       "    </tr>\n",
       "    <tr>\n",
       "      <th>75%</th>\n",
       "      <td>2019-10-19 00:00:00</td>\n",
       "      <td>14.090000</td>\n",
       "      <td>10.000000</td>\n",
       "      <td>16727.000000</td>\n",
       "    </tr>\n",
       "    <tr>\n",
       "      <th>max</th>\n",
       "      <td>2019-12-09 00:00:00</td>\n",
       "      <td>660.620000</td>\n",
       "      <td>80995.000000</td>\n",
       "      <td>18287.000000</td>\n",
       "    </tr>\n",
       "    <tr>\n",
       "      <th>std</th>\n",
       "      <td>NaN</td>\n",
       "      <td>8.525988</td>\n",
       "      <td>217.700768</td>\n",
       "      <td>1723.519209</td>\n",
       "    </tr>\n",
       "  </tbody>\n",
       "</table>\n",
       "</div>"
      ],
      "text/plain": [
       "                                date          price       quantity  \\\n",
       "count                         531150  531150.000000  531150.000000   \n",
       "mean   2019-07-04 00:23:47.393391616      12.669787       9.988540   \n",
       "min              2018-12-01 00:00:00       5.130000  -80995.000000   \n",
       "25%              2019-03-28 00:00:00      10.990000       1.000000   \n",
       "50%              2019-07-20 00:00:00      11.940000       3.000000   \n",
       "75%              2019-10-19 00:00:00      14.090000      10.000000   \n",
       "max              2019-12-09 00:00:00     660.620000   80995.000000   \n",
       "std                              NaN       8.525988     217.700768   \n",
       "\n",
       "        customer_num  \n",
       "count  531150.000000  \n",
       "mean    15221.035956  \n",
       "min         0.000000  \n",
       "25%     13798.000000  \n",
       "50%     15146.000000  \n",
       "75%     16727.000000  \n",
       "max     18287.000000  \n",
       "std      1723.519209  "
      ]
     },
     "execution_count": 11,
     "metadata": {},
     "output_type": "execute_result"
    }
   ],
   "source": [
    "df.describe()"
   ]
  },
  {
   "cell_type": "markdown",
   "id": "12558f72",
   "metadata": {},
   "source": [
    "**Checking negative values**"
   ]
  },
  {
   "cell_type": "code",
   "execution_count": 12,
   "id": "4697d6c3",
   "metadata": {},
   "outputs": [
    {
     "name": "stdout",
     "output_type": "stream",
     "text": [
      "       transaction_num       date product_num  \\\n",
      "1611           C581484 2019-12-09       23843   \n",
      "1612           C581490 2019-12-09       22178   \n",
      "1613           C581490 2019-12-09       23144   \n",
      "1614           C581568 2019-12-09       21258   \n",
      "1615           C581569 2019-12-09       84978   \n",
      "...                ...        ...         ...   \n",
      "531145         C536548 2018-12-01       22168   \n",
      "531146         C536548 2018-12-01       21218   \n",
      "531147         C536548 2018-12-01       20957   \n",
      "531148         C536548 2018-12-01       22580   \n",
      "531149         C536548 2018-12-01       22767   \n",
      "\n",
      "                            product_name  price  quantity  customer_num  \\\n",
      "1611           Paper Craft Little Birdie   6.19    -80995       16446.0   \n",
      "1612     Victorian Glass Hanging T-Light   6.19       -12       14397.0   \n",
      "1613     Zinc T-Light Holder Stars Small   6.04       -11       14397.0   \n",
      "1614          Victorian Sewing Box Large   6.19        -5       15311.0   \n",
      "1615    Hanging Heart Jar T-Light Holder   6.19        -1       17315.0   \n",
      "...                                  ...    ...       ...           ...   \n",
      "531145      Organiser Wood Antique White  18.96        -2       12472.0   \n",
      "531146            Red Spotty Biscuit Tin  14.09        -3       12472.0   \n",
      "531147      Porcelain Hanging Bell Small  11.74        -1       12472.0   \n",
      "531148      Advent Calendar Gingham Sack  16.35        -4       12472.0   \n",
      "531149        Triple Photo Frame Cornice  20.45        -2       12472.0   \n",
      "\n",
      "               country  \n",
      "1611    United Kingdom  \n",
      "1612    United Kingdom  \n",
      "1613    United Kingdom  \n",
      "1614    United Kingdom  \n",
      "1615    United Kingdom  \n",
      "...                ...  \n",
      "531145         Germany  \n",
      "531146         Germany  \n",
      "531147         Germany  \n",
      "531148         Germany  \n",
      "531149         Germany  \n",
      "\n",
      "[8548 rows x 8 columns]\n"
     ]
    },
    {
     "data": {
      "text/plain": [
       "np.int64(8548)"
      ]
     },
     "execution_count": 12,
     "metadata": {},
     "output_type": "execute_result"
    }
   ],
   "source": [
    "quantity_with_negative = df[df[\"quantity\"]<0]\n",
    "print(quantity_with_negative)\n",
    "\n",
    "(df[\"quantity\"]<0).sum()"
   ]
  },
  {
   "cell_type": "code",
   "execution_count": 13,
   "id": "acbb3014",
   "metadata": {},
   "outputs": [
    {
     "data": {
      "text/html": [
       "<div>\n",
       "<style scoped>\n",
       "    .dataframe tbody tr th:only-of-type {\n",
       "        vertical-align: middle;\n",
       "    }\n",
       "\n",
       "    .dataframe tbody tr th {\n",
       "        vertical-align: top;\n",
       "    }\n",
       "\n",
       "    .dataframe thead th {\n",
       "        text-align: right;\n",
       "    }\n",
       "</style>\n",
       "<table border=\"1\" class=\"dataframe\">\n",
       "  <thead>\n",
       "    <tr style=\"text-align: right;\">\n",
       "      <th></th>\n",
       "      <th>transaction_num</th>\n",
       "      <th>date</th>\n",
       "      <th>product_num</th>\n",
       "      <th>product_name</th>\n",
       "      <th>price</th>\n",
       "      <th>quantity</th>\n",
       "      <th>customer_num</th>\n",
       "      <th>country</th>\n",
       "    </tr>\n",
       "  </thead>\n",
       "  <tbody>\n",
       "    <tr>\n",
       "      <th>142</th>\n",
       "      <td>581483</td>\n",
       "      <td>2019-12-09</td>\n",
       "      <td>23843</td>\n",
       "      <td>Paper Craft Little Birdie</td>\n",
       "      <td>12.38</td>\n",
       "      <td>80995</td>\n",
       "      <td>16446.0</td>\n",
       "      <td>United Kingdom</td>\n",
       "    </tr>\n",
       "    <tr>\n",
       "      <th>469458</th>\n",
       "      <td>541431</td>\n",
       "      <td>2019-01-18</td>\n",
       "      <td>23166</td>\n",
       "      <td>Medium Ceramic Top Storage Jar</td>\n",
       "      <td>11.32</td>\n",
       "      <td>74215</td>\n",
       "      <td>12346.0</td>\n",
       "      <td>United Kingdom</td>\n",
       "    </tr>\n",
       "    <tr>\n",
       "      <th>40967</th>\n",
       "      <td>578841</td>\n",
       "      <td>2019-11-25</td>\n",
       "      <td>84826</td>\n",
       "      <td>Asstd Design 3d Paper Stickers</td>\n",
       "      <td>6.19</td>\n",
       "      <td>12540</td>\n",
       "      <td>13256.0</td>\n",
       "      <td>United Kingdom</td>\n",
       "    </tr>\n",
       "    <tr>\n",
       "      <th>116287</th>\n",
       "      <td>573008</td>\n",
       "      <td>2019-10-27</td>\n",
       "      <td>84077</td>\n",
       "      <td>World War 2 Gliders Asstd Designs</td>\n",
       "      <td>10.47</td>\n",
       "      <td>4800</td>\n",
       "      <td>12901.0</td>\n",
       "      <td>United Kingdom</td>\n",
       "    </tr>\n",
       "    <tr>\n",
       "      <th>328460</th>\n",
       "      <td>554868</td>\n",
       "      <td>2019-05-27</td>\n",
       "      <td>22197</td>\n",
       "      <td>Popcorn Holder</td>\n",
       "      <td>10.99</td>\n",
       "      <td>4300</td>\n",
       "      <td>13135.0</td>\n",
       "      <td>United Kingdom</td>\n",
       "    </tr>\n",
       "    <tr>\n",
       "      <th>...</th>\n",
       "      <td>...</td>\n",
       "      <td>...</td>\n",
       "      <td>...</td>\n",
       "      <td>...</td>\n",
       "      <td>...</td>\n",
       "      <td>...</td>\n",
       "      <td>...</td>\n",
       "      <td>...</td>\n",
       "    </tr>\n",
       "    <tr>\n",
       "      <th>374888</th>\n",
       "      <td>C550456</td>\n",
       "      <td>2019-04-18</td>\n",
       "      <td>21175</td>\n",
       "      <td>Gin And Tonic Diet Metal Sign</td>\n",
       "      <td>12.15</td>\n",
       "      <td>-2000</td>\n",
       "      <td>15749.0</td>\n",
       "      <td>United Kingdom</td>\n",
       "    </tr>\n",
       "    <tr>\n",
       "      <th>374889</th>\n",
       "      <td>C550456</td>\n",
       "      <td>2019-04-18</td>\n",
       "      <td>21108</td>\n",
       "      <td>Fairy Cake Flannel Assorted Colour</td>\n",
       "      <td>12.40</td>\n",
       "      <td>-3114</td>\n",
       "      <td>15749.0</td>\n",
       "      <td>United Kingdom</td>\n",
       "    </tr>\n",
       "    <tr>\n",
       "      <th>528079</th>\n",
       "      <td>C536757</td>\n",
       "      <td>2018-12-02</td>\n",
       "      <td>84347</td>\n",
       "      <td>Rotating Silver Angels T-Light Hldr</td>\n",
       "      <td>10.28</td>\n",
       "      <td>-9360</td>\n",
       "      <td>15838.0</td>\n",
       "      <td>United Kingdom</td>\n",
       "    </tr>\n",
       "    <tr>\n",
       "      <th>470798</th>\n",
       "      <td>C541433</td>\n",
       "      <td>2019-01-18</td>\n",
       "      <td>23166</td>\n",
       "      <td>Medium Ceramic Top Storage Jar</td>\n",
       "      <td>11.32</td>\n",
       "      <td>-74215</td>\n",
       "      <td>12346.0</td>\n",
       "      <td>United Kingdom</td>\n",
       "    </tr>\n",
       "    <tr>\n",
       "      <th>1611</th>\n",
       "      <td>C581484</td>\n",
       "      <td>2019-12-09</td>\n",
       "      <td>23843</td>\n",
       "      <td>Paper Craft Little Birdie</td>\n",
       "      <td>6.19</td>\n",
       "      <td>-80995</td>\n",
       "      <td>16446.0</td>\n",
       "      <td>United Kingdom</td>\n",
       "    </tr>\n",
       "  </tbody>\n",
       "</table>\n",
       "<p>531150 rows × 8 columns</p>\n",
       "</div>"
      ],
      "text/plain": [
       "       transaction_num       date product_num  \\\n",
       "142             581483 2019-12-09       23843   \n",
       "469458          541431 2019-01-18       23166   \n",
       "40967           578841 2019-11-25       84826   \n",
       "116287          573008 2019-10-27       84077   \n",
       "328460          554868 2019-05-27       22197   \n",
       "...                ...        ...         ...   \n",
       "374888         C550456 2019-04-18       21175   \n",
       "374889         C550456 2019-04-18       21108   \n",
       "528079         C536757 2018-12-02       84347   \n",
       "470798         C541433 2019-01-18       23166   \n",
       "1611           C581484 2019-12-09       23843   \n",
       "\n",
       "                               product_name  price  quantity  customer_num  \\\n",
       "142               Paper Craft Little Birdie  12.38     80995       16446.0   \n",
       "469458       Medium Ceramic Top Storage Jar  11.32     74215       12346.0   \n",
       "40967        Asstd Design 3d Paper Stickers   6.19     12540       13256.0   \n",
       "116287    World War 2 Gliders Asstd Designs  10.47      4800       12901.0   \n",
       "328460                       Popcorn Holder  10.99      4300       13135.0   \n",
       "...                                     ...    ...       ...           ...   \n",
       "374888        Gin And Tonic Diet Metal Sign  12.15     -2000       15749.0   \n",
       "374889   Fairy Cake Flannel Assorted Colour  12.40     -3114       15749.0   \n",
       "528079  Rotating Silver Angels T-Light Hldr  10.28     -9360       15838.0   \n",
       "470798       Medium Ceramic Top Storage Jar  11.32    -74215       12346.0   \n",
       "1611              Paper Craft Little Birdie   6.19    -80995       16446.0   \n",
       "\n",
       "               country  \n",
       "142     United Kingdom  \n",
       "469458  United Kingdom  \n",
       "40967   United Kingdom  \n",
       "116287  United Kingdom  \n",
       "328460  United Kingdom  \n",
       "...                ...  \n",
       "374888  United Kingdom  \n",
       "374889  United Kingdom  \n",
       "528079  United Kingdom  \n",
       "470798  United Kingdom  \n",
       "1611    United Kingdom  \n",
       "\n",
       "[531150 rows x 8 columns]"
      ]
     },
     "execution_count": 13,
     "metadata": {},
     "output_type": "execute_result"
    }
   ],
   "source": [
    "df.sort_values(\"quantity\", ascending=False)"
   ]
  },
  {
   "cell_type": "markdown",
   "id": "9c3f8464",
   "metadata": {},
   "source": [
    "**Dropping \"transaction_num\"**"
   ]
  },
  {
   "cell_type": "code",
   "execution_count": 14,
   "id": "1915b80b",
   "metadata": {},
   "outputs": [],
   "source": [
    "df.drop(columns=\"transaction_num\", inplace=True)"
   ]
  },
  {
   "cell_type": "markdown",
   "id": "9693b6d4",
   "metadata": {},
   "source": [
    "**Converting negative values in \"quantity\" column to absolute value**"
   ]
  },
  {
   "cell_type": "code",
   "execution_count": 15,
   "id": "29311d34",
   "metadata": {},
   "outputs": [
    {
     "data": {
      "text/html": [
       "<div>\n",
       "<style scoped>\n",
       "    .dataframe tbody tr th:only-of-type {\n",
       "        vertical-align: middle;\n",
       "    }\n",
       "\n",
       "    .dataframe tbody tr th {\n",
       "        vertical-align: top;\n",
       "    }\n",
       "\n",
       "    .dataframe thead th {\n",
       "        text-align: right;\n",
       "    }\n",
       "</style>\n",
       "<table border=\"1\" class=\"dataframe\">\n",
       "  <thead>\n",
       "    <tr style=\"text-align: right;\">\n",
       "      <th></th>\n",
       "      <th>date</th>\n",
       "      <th>price</th>\n",
       "      <th>quantity</th>\n",
       "      <th>customer_num</th>\n",
       "    </tr>\n",
       "  </thead>\n",
       "  <tbody>\n",
       "    <tr>\n",
       "      <th>count</th>\n",
       "      <td>531150</td>\n",
       "      <td>531150.000000</td>\n",
       "      <td>531150.000000</td>\n",
       "      <td>531150.000000</td>\n",
       "    </tr>\n",
       "    <tr>\n",
       "      <th>mean</th>\n",
       "      <td>2019-07-04 00:23:47.393391616</td>\n",
       "      <td>12.669787</td>\n",
       "      <td>11.003082</td>\n",
       "      <td>15221.035956</td>\n",
       "    </tr>\n",
       "    <tr>\n",
       "      <th>min</th>\n",
       "      <td>2018-12-01 00:00:00</td>\n",
       "      <td>5.130000</td>\n",
       "      <td>1.000000</td>\n",
       "      <td>0.000000</td>\n",
       "    </tr>\n",
       "    <tr>\n",
       "      <th>25%</th>\n",
       "      <td>2019-03-28 00:00:00</td>\n",
       "      <td>10.990000</td>\n",
       "      <td>1.000000</td>\n",
       "      <td>13798.000000</td>\n",
       "    </tr>\n",
       "    <tr>\n",
       "      <th>50%</th>\n",
       "      <td>2019-07-20 00:00:00</td>\n",
       "      <td>11.940000</td>\n",
       "      <td>3.000000</td>\n",
       "      <td>15146.000000</td>\n",
       "    </tr>\n",
       "    <tr>\n",
       "      <th>75%</th>\n",
       "      <td>2019-10-19 00:00:00</td>\n",
       "      <td>14.090000</td>\n",
       "      <td>11.000000</td>\n",
       "      <td>16727.000000</td>\n",
       "    </tr>\n",
       "    <tr>\n",
       "      <th>max</th>\n",
       "      <td>2019-12-09 00:00:00</td>\n",
       "      <td>660.620000</td>\n",
       "      <td>80995.000000</td>\n",
       "      <td>18287.000000</td>\n",
       "    </tr>\n",
       "    <tr>\n",
       "      <th>std</th>\n",
       "      <td>NaN</td>\n",
       "      <td>8.525988</td>\n",
       "      <td>217.651849</td>\n",
       "      <td>1723.519209</td>\n",
       "    </tr>\n",
       "  </tbody>\n",
       "</table>\n",
       "</div>"
      ],
      "text/plain": [
       "                                date          price       quantity  \\\n",
       "count                         531150  531150.000000  531150.000000   \n",
       "mean   2019-07-04 00:23:47.393391616      12.669787      11.003082   \n",
       "min              2018-12-01 00:00:00       5.130000       1.000000   \n",
       "25%              2019-03-28 00:00:00      10.990000       1.000000   \n",
       "50%              2019-07-20 00:00:00      11.940000       3.000000   \n",
       "75%              2019-10-19 00:00:00      14.090000      11.000000   \n",
       "max              2019-12-09 00:00:00     660.620000   80995.000000   \n",
       "std                              NaN       8.525988     217.651849   \n",
       "\n",
       "        customer_num  \n",
       "count  531150.000000  \n",
       "mean    15221.035956  \n",
       "min         0.000000  \n",
       "25%     13798.000000  \n",
       "50%     15146.000000  \n",
       "75%     16727.000000  \n",
       "max     18287.000000  \n",
       "std      1723.519209  "
      ]
     },
     "execution_count": 15,
     "metadata": {},
     "output_type": "execute_result"
    }
   ],
   "source": [
    "df[\"quantity\"] = df[\"quantity\"].abs()\n",
    "df.describe()"
   ]
  },
  {
   "cell_type": "markdown",
   "id": "2988bb01",
   "metadata": {},
   "source": [
    "**Checking duplicates after negative values in \"quantity column\" has been converted to absolute value**"
   ]
  },
  {
   "cell_type": "code",
   "execution_count": 16,
   "id": "da76c4be",
   "metadata": {},
   "outputs": [
    {
     "data": {
      "text/plain": [
       "np.int64(2044)"
      ]
     },
     "execution_count": 16,
     "metadata": {},
     "output_type": "execute_result"
    }
   ],
   "source": [
    "df.duplicated().sum()"
   ]
  },
  {
   "cell_type": "markdown",
   "id": "f1ae1903",
   "metadata": {},
   "source": [
    "**Dropping duplicates**"
   ]
  },
  {
   "cell_type": "code",
   "execution_count": 17,
   "id": "9e0097e0",
   "metadata": {},
   "outputs": [
    {
     "data": {
      "text/plain": [
       "np.int64(0)"
      ]
     },
     "execution_count": 17,
     "metadata": {},
     "output_type": "execute_result"
    }
   ],
   "source": [
    "df.drop_duplicates(ignore_index=True, inplace=True)\n",
    "df.duplicated().sum()"
   ]
  },
  {
   "cell_type": "code",
   "execution_count": 18,
   "id": "3679497c",
   "metadata": {},
   "outputs": [
    {
     "name": "stdout",
     "output_type": "stream",
     "text": [
      "<class 'pandas.core.frame.DataFrame'>\n",
      "RangeIndex: 529106 entries, 0 to 529105\n",
      "Data columns (total 7 columns):\n",
      " #   Column        Non-Null Count   Dtype         \n",
      "---  ------        --------------   -----         \n",
      " 0   date          529106 non-null  datetime64[ns]\n",
      " 1   product_num   529106 non-null  object        \n",
      " 2   product_name  529106 non-null  object        \n",
      " 3   price         529106 non-null  float64       \n",
      " 4   quantity      529106 non-null  int64         \n",
      " 5   customer_num  529106 non-null  float64       \n",
      " 6   country       529106 non-null  object        \n",
      "dtypes: datetime64[ns](1), float64(2), int64(1), object(3)\n",
      "memory usage: 28.3+ MB\n"
     ]
    }
   ],
   "source": [
    "df.info()"
   ]
  },
  {
   "cell_type": "code",
   "execution_count": 19,
   "id": "b1dd38db",
   "metadata": {},
   "outputs": [
    {
     "data": {
      "text/html": [
       "<div>\n",
       "<style scoped>\n",
       "    .dataframe tbody tr th:only-of-type {\n",
       "        vertical-align: middle;\n",
       "    }\n",
       "\n",
       "    .dataframe tbody tr th {\n",
       "        vertical-align: top;\n",
       "    }\n",
       "\n",
       "    .dataframe thead th {\n",
       "        text-align: right;\n",
       "    }\n",
       "</style>\n",
       "<table border=\"1\" class=\"dataframe\">\n",
       "  <thead>\n",
       "    <tr style=\"text-align: right;\">\n",
       "      <th></th>\n",
       "      <th>date</th>\n",
       "      <th>price</th>\n",
       "      <th>quantity</th>\n",
       "      <th>customer_num</th>\n",
       "    </tr>\n",
       "  </thead>\n",
       "  <tbody>\n",
       "    <tr>\n",
       "      <th>count</th>\n",
       "      <td>529106</td>\n",
       "      <td>529106.000000</td>\n",
       "      <td>529106.000000</td>\n",
       "      <td>529106.000000</td>\n",
       "    </tr>\n",
       "    <tr>\n",
       "      <th>mean</th>\n",
       "      <td>2019-07-04 01:28:19.716881408</td>\n",
       "      <td>12.665758</td>\n",
       "      <td>10.801121</td>\n",
       "      <td>15219.659760</td>\n",
       "    </tr>\n",
       "    <tr>\n",
       "      <th>min</th>\n",
       "      <td>2018-12-01 00:00:00</td>\n",
       "      <td>5.130000</td>\n",
       "      <td>1.000000</td>\n",
       "      <td>0.000000</td>\n",
       "    </tr>\n",
       "    <tr>\n",
       "      <th>25%</th>\n",
       "      <td>2019-03-28 00:00:00</td>\n",
       "      <td>10.990000</td>\n",
       "      <td>1.000000</td>\n",
       "      <td>13798.000000</td>\n",
       "    </tr>\n",
       "    <tr>\n",
       "      <th>50%</th>\n",
       "      <td>2019-07-20 00:00:00</td>\n",
       "      <td>11.940000</td>\n",
       "      <td>3.000000</td>\n",
       "      <td>15144.000000</td>\n",
       "    </tr>\n",
       "    <tr>\n",
       "      <th>75%</th>\n",
       "      <td>2019-10-19 00:00:00</td>\n",
       "      <td>14.090000</td>\n",
       "      <td>11.000000</td>\n",
       "      <td>16725.000000</td>\n",
       "    </tr>\n",
       "    <tr>\n",
       "      <th>max</th>\n",
       "      <td>2019-12-09 00:00:00</td>\n",
       "      <td>660.620000</td>\n",
       "      <td>80995.000000</td>\n",
       "      <td>18287.000000</td>\n",
       "    </tr>\n",
       "    <tr>\n",
       "      <th>std</th>\n",
       "      <td>NaN</td>\n",
       "      <td>8.408215</td>\n",
       "      <td>192.631269</td>\n",
       "      <td>1722.663464</td>\n",
       "    </tr>\n",
       "  </tbody>\n",
       "</table>\n",
       "</div>"
      ],
      "text/plain": [
       "                                date          price       quantity  \\\n",
       "count                         529106  529106.000000  529106.000000   \n",
       "mean   2019-07-04 01:28:19.716881408      12.665758      10.801121   \n",
       "min              2018-12-01 00:00:00       5.130000       1.000000   \n",
       "25%              2019-03-28 00:00:00      10.990000       1.000000   \n",
       "50%              2019-07-20 00:00:00      11.940000       3.000000   \n",
       "75%              2019-10-19 00:00:00      14.090000      11.000000   \n",
       "max              2019-12-09 00:00:00     660.620000   80995.000000   \n",
       "std                              NaN       8.408215     192.631269   \n",
       "\n",
       "        customer_num  \n",
       "count  529106.000000  \n",
       "mean    15219.659760  \n",
       "min         0.000000  \n",
       "25%     13798.000000  \n",
       "50%     15144.000000  \n",
       "75%     16725.000000  \n",
       "max     18287.000000  \n",
       "std      1722.663464  "
      ]
     },
     "execution_count": 19,
     "metadata": {},
     "output_type": "execute_result"
    }
   ],
   "source": [
    "df.describe()"
   ]
  },
  {
   "cell_type": "markdown",
   "id": "f9cabd5e",
   "metadata": {},
   "source": [
    "## Feature Engineering"
   ]
  },
  {
   "cell_type": "markdown",
   "id": "e2b21cb7",
   "metadata": {},
   "source": [
    "Adding day_name, week, month, and year"
   ]
  },
  {
   "cell_type": "code",
   "execution_count": 20,
   "id": "282b99ae",
   "metadata": {},
   "outputs": [
    {
     "data": {
      "text/html": [
       "<div>\n",
       "<style scoped>\n",
       "    .dataframe tbody tr th:only-of-type {\n",
       "        vertical-align: middle;\n",
       "    }\n",
       "\n",
       "    .dataframe tbody tr th {\n",
       "        vertical-align: top;\n",
       "    }\n",
       "\n",
       "    .dataframe thead th {\n",
       "        text-align: right;\n",
       "    }\n",
       "</style>\n",
       "<table border=\"1\" class=\"dataframe\">\n",
       "  <thead>\n",
       "    <tr style=\"text-align: right;\">\n",
       "      <th></th>\n",
       "      <th>date</th>\n",
       "      <th>product_num</th>\n",
       "      <th>product_name</th>\n",
       "      <th>price</th>\n",
       "      <th>quantity</th>\n",
       "      <th>customer_num</th>\n",
       "      <th>country</th>\n",
       "      <th>day_name</th>\n",
       "      <th>week</th>\n",
       "      <th>month_name</th>\n",
       "      <th>month</th>\n",
       "      <th>year</th>\n",
       "    </tr>\n",
       "  </thead>\n",
       "  <tbody>\n",
       "    <tr>\n",
       "      <th>0</th>\n",
       "      <td>2018-12-23</td>\n",
       "      <td>85161</td>\n",
       "      <td>Acrylic Geometric Lamp</td>\n",
       "      <td>49.47</td>\n",
       "      <td>1</td>\n",
       "      <td>13958.0</td>\n",
       "      <td>United Kingdom</td>\n",
       "      <td>Sunday</td>\n",
       "      <td>51</td>\n",
       "      <td>December</td>\n",
       "      <td>12</td>\n",
       "      <td>2018</td>\n",
       "    </tr>\n",
       "    <tr>\n",
       "      <th>1</th>\n",
       "      <td>2018-12-23</td>\n",
       "      <td>22423</td>\n",
       "      <td>Regency Cakestand 3 Tier</td>\n",
       "      <td>36.38</td>\n",
       "      <td>5</td>\n",
       "      <td>14955.0</td>\n",
       "      <td>United Kingdom</td>\n",
       "      <td>Sunday</td>\n",
       "      <td>51</td>\n",
       "      <td>December</td>\n",
       "      <td>12</td>\n",
       "      <td>2018</td>\n",
       "    </tr>\n",
       "    <tr>\n",
       "      <th>2</th>\n",
       "      <td>2018-12-23</td>\n",
       "      <td>22423</td>\n",
       "      <td>Regency Cakestand 3 Tier</td>\n",
       "      <td>36.38</td>\n",
       "      <td>2</td>\n",
       "      <td>13958.0</td>\n",
       "      <td>United Kingdom</td>\n",
       "      <td>Sunday</td>\n",
       "      <td>51</td>\n",
       "      <td>December</td>\n",
       "      <td>12</td>\n",
       "      <td>2018</td>\n",
       "    </tr>\n",
       "    <tr>\n",
       "      <th>3</th>\n",
       "      <td>2018-12-23</td>\n",
       "      <td>22503</td>\n",
       "      <td>Cabin Bag Vintage Paisley</td>\n",
       "      <td>36.38</td>\n",
       "      <td>1</td>\n",
       "      <td>13958.0</td>\n",
       "      <td>United Kingdom</td>\n",
       "      <td>Sunday</td>\n",
       "      <td>51</td>\n",
       "      <td>December</td>\n",
       "      <td>12</td>\n",
       "      <td>2018</td>\n",
       "    </tr>\n",
       "    <tr>\n",
       "      <th>4</th>\n",
       "      <td>2018-12-23</td>\n",
       "      <td>22760</td>\n",
       "      <td>Tray Breakfast In Bed</td>\n",
       "      <td>36.38</td>\n",
       "      <td>1</td>\n",
       "      <td>13958.0</td>\n",
       "      <td>United Kingdom</td>\n",
       "      <td>Sunday</td>\n",
       "      <td>51</td>\n",
       "      <td>December</td>\n",
       "      <td>12</td>\n",
       "      <td>2018</td>\n",
       "    </tr>\n",
       "  </tbody>\n",
       "</table>\n",
       "</div>"
      ],
      "text/plain": [
       "        date product_num               product_name  price  quantity  \\\n",
       "0 2018-12-23       85161     Acrylic Geometric Lamp  49.47         1   \n",
       "1 2018-12-23       22423   Regency Cakestand 3 Tier  36.38         5   \n",
       "2 2018-12-23       22423   Regency Cakestand 3 Tier  36.38         2   \n",
       "3 2018-12-23       22503  Cabin Bag Vintage Paisley  36.38         1   \n",
       "4 2018-12-23       22760      Tray Breakfast In Bed  36.38         1   \n",
       "\n",
       "   customer_num         country day_name  week month_name  month  year  \n",
       "0       13958.0  United Kingdom   Sunday    51   December     12  2018  \n",
       "1       14955.0  United Kingdom   Sunday    51   December     12  2018  \n",
       "2       13958.0  United Kingdom   Sunday    51   December     12  2018  \n",
       "3       13958.0  United Kingdom   Sunday    51   December     12  2018  \n",
       "4       13958.0  United Kingdom   Sunday    51   December     12  2018  "
      ]
     },
     "execution_count": 20,
     "metadata": {},
     "output_type": "execute_result"
    }
   ],
   "source": [
    "df[\"day_name\"] = df[\"date\"].dt.day_name()\n",
    "df[\"week\"] = df[\"date\"].dt.isocalendar().week\n",
    "df[\"month_name\"] = df[\"date\"].dt.month_name()\n",
    "df[\"month\"] = df[\"date\"].dt.month\n",
    "df[\"year\"] = df[\"date\"].dt.year\n",
    "df = df.sort_values([\"year\", \"month\"], ignore_index=True)\n",
    "df.head(5)\n"
   ]
  },
  {
   "cell_type": "markdown",
   "id": "37f77aa5",
   "metadata": {},
   "source": [
    "**Adding \"revenue\" Column**\n",
    "revenue = price * quantity"
   ]
  },
  {
   "cell_type": "code",
   "execution_count": 21,
   "id": "aa8876e5",
   "metadata": {},
   "outputs": [
    {
     "data": {
      "text/html": [
       "<div>\n",
       "<style scoped>\n",
       "    .dataframe tbody tr th:only-of-type {\n",
       "        vertical-align: middle;\n",
       "    }\n",
       "\n",
       "    .dataframe tbody tr th {\n",
       "        vertical-align: top;\n",
       "    }\n",
       "\n",
       "    .dataframe thead th {\n",
       "        text-align: right;\n",
       "    }\n",
       "</style>\n",
       "<table border=\"1\" class=\"dataframe\">\n",
       "  <thead>\n",
       "    <tr style=\"text-align: right;\">\n",
       "      <th></th>\n",
       "      <th>date</th>\n",
       "      <th>product_num</th>\n",
       "      <th>product_name</th>\n",
       "      <th>price</th>\n",
       "      <th>quantity</th>\n",
       "      <th>customer_num</th>\n",
       "      <th>country</th>\n",
       "      <th>day_name</th>\n",
       "      <th>week</th>\n",
       "      <th>month_name</th>\n",
       "      <th>month</th>\n",
       "      <th>year</th>\n",
       "      <th>revenue</th>\n",
       "    </tr>\n",
       "  </thead>\n",
       "  <tbody>\n",
       "    <tr>\n",
       "      <th>0</th>\n",
       "      <td>2018-12-23</td>\n",
       "      <td>85161</td>\n",
       "      <td>Acrylic Geometric Lamp</td>\n",
       "      <td>49.47</td>\n",
       "      <td>1</td>\n",
       "      <td>13958.0</td>\n",
       "      <td>United Kingdom</td>\n",
       "      <td>Sunday</td>\n",
       "      <td>51</td>\n",
       "      <td>December</td>\n",
       "      <td>12</td>\n",
       "      <td>2018</td>\n",
       "      <td>49.47</td>\n",
       "    </tr>\n",
       "    <tr>\n",
       "      <th>1</th>\n",
       "      <td>2018-12-23</td>\n",
       "      <td>22423</td>\n",
       "      <td>Regency Cakestand 3 Tier</td>\n",
       "      <td>36.38</td>\n",
       "      <td>5</td>\n",
       "      <td>14955.0</td>\n",
       "      <td>United Kingdom</td>\n",
       "      <td>Sunday</td>\n",
       "      <td>51</td>\n",
       "      <td>December</td>\n",
       "      <td>12</td>\n",
       "      <td>2018</td>\n",
       "      <td>181.90</td>\n",
       "    </tr>\n",
       "    <tr>\n",
       "      <th>2</th>\n",
       "      <td>2018-12-23</td>\n",
       "      <td>22423</td>\n",
       "      <td>Regency Cakestand 3 Tier</td>\n",
       "      <td>36.38</td>\n",
       "      <td>2</td>\n",
       "      <td>13958.0</td>\n",
       "      <td>United Kingdom</td>\n",
       "      <td>Sunday</td>\n",
       "      <td>51</td>\n",
       "      <td>December</td>\n",
       "      <td>12</td>\n",
       "      <td>2018</td>\n",
       "      <td>72.76</td>\n",
       "    </tr>\n",
       "    <tr>\n",
       "      <th>3</th>\n",
       "      <td>2018-12-23</td>\n",
       "      <td>22503</td>\n",
       "      <td>Cabin Bag Vintage Paisley</td>\n",
       "      <td>36.38</td>\n",
       "      <td>1</td>\n",
       "      <td>13958.0</td>\n",
       "      <td>United Kingdom</td>\n",
       "      <td>Sunday</td>\n",
       "      <td>51</td>\n",
       "      <td>December</td>\n",
       "      <td>12</td>\n",
       "      <td>2018</td>\n",
       "      <td>36.38</td>\n",
       "    </tr>\n",
       "    <tr>\n",
       "      <th>4</th>\n",
       "      <td>2018-12-23</td>\n",
       "      <td>22760</td>\n",
       "      <td>Tray Breakfast In Bed</td>\n",
       "      <td>36.38</td>\n",
       "      <td>1</td>\n",
       "      <td>13958.0</td>\n",
       "      <td>United Kingdom</td>\n",
       "      <td>Sunday</td>\n",
       "      <td>51</td>\n",
       "      <td>December</td>\n",
       "      <td>12</td>\n",
       "      <td>2018</td>\n",
       "      <td>36.38</td>\n",
       "    </tr>\n",
       "  </tbody>\n",
       "</table>\n",
       "</div>"
      ],
      "text/plain": [
       "        date product_num               product_name  price  quantity  \\\n",
       "0 2018-12-23       85161     Acrylic Geometric Lamp  49.47         1   \n",
       "1 2018-12-23       22423   Regency Cakestand 3 Tier  36.38         5   \n",
       "2 2018-12-23       22423   Regency Cakestand 3 Tier  36.38         2   \n",
       "3 2018-12-23       22503  Cabin Bag Vintage Paisley  36.38         1   \n",
       "4 2018-12-23       22760      Tray Breakfast In Bed  36.38         1   \n",
       "\n",
       "   customer_num         country day_name  week month_name  month  year  \\\n",
       "0       13958.0  United Kingdom   Sunday    51   December     12  2018   \n",
       "1       14955.0  United Kingdom   Sunday    51   December     12  2018   \n",
       "2       13958.0  United Kingdom   Sunday    51   December     12  2018   \n",
       "3       13958.0  United Kingdom   Sunday    51   December     12  2018   \n",
       "4       13958.0  United Kingdom   Sunday    51   December     12  2018   \n",
       "\n",
       "   revenue  \n",
       "0    49.47  \n",
       "1   181.90  \n",
       "2    72.76  \n",
       "3    36.38  \n",
       "4    36.38  "
      ]
     },
     "execution_count": 21,
     "metadata": {},
     "output_type": "execute_result"
    }
   ],
   "source": [
    "df[\"revenue\"] = df[\"price\"] * df[\"quantity\"]\n",
    "df.head()"
   ]
  },
  {
   "cell_type": "markdown",
   "id": "d7a53c69",
   "metadata": {},
   "source": [
    "### Best-selling products"
   ]
  },
  {
   "cell_type": "markdown",
   "id": "1881c56b",
   "metadata": {},
   "source": [
    "**Top 10 most frequently purchased products**"
   ]
  },
  {
   "cell_type": "code",
   "execution_count": 22,
   "id": "b296e474",
   "metadata": {},
   "outputs": [
    {
     "data": {
      "image/png": "[encoded data removed]",
      "text/plain": [
       "<Figure size 640x480 with 1 Axes>"
      ]
     },
     "metadata": {},
     "output_type": "display_data"
    }
   ],
   "source": [
    "frequent_purchased_products = df[\"product_name\"].value_counts().head(10)\n",
    "frequent_purchased_products.sort_values(ascending=False).plot(kind=\"bar\")\n",
    "plt.show()"
   ]
  },
  {
   "cell_type": "markdown",
   "id": "04e1dd43",
   "metadata": {},
   "source": [
    "**Top 10 highest number of products sold**"
   ]
  },
  {
   "cell_type": "code",
   "execution_count": 23,
   "id": "642bb408",
   "metadata": {},
   "outputs": [
    {
     "data": {
      "image/png": "[encoded data removed]",
      "text/plain": [
       "<Figure size 640x480 with 1 Axes>"
      ]
     },
     "metadata": {},
     "output_type": "display_data"
    }
   ],
   "source": [
    "most_num_of_products_sold = df.groupby(\"product_name\")[\"quantity\"].sum().head(10)\n",
    "most_num_of_products_sold.sort_values(ascending=False).plot(kind=\"bar\")\n",
    "plt.show()\n",
    "\n"
   ]
  },
  {
   "cell_type": "markdown",
   "id": "5d28e7c0",
   "metadata": {},
   "source": [
    "**Top customers**"
   ]
  },
  {
   "cell_type": "code",
   "execution_count": 24,
   "id": "9a26670d",
   "metadata": {},
   "outputs": [
    {
     "data": {
      "image/png": "[encoded data removed]",
      "text/plain": [
       "<Figure size 640x480 with 1 Axes>"
      ]
     },
     "metadata": {},
     "output_type": "display_data"
    }
   ],
   "source": [
    "top_customers = df[\"customer_num\"].value_counts().sort_values(ascending=False).head(10)\n",
    "top_customers.plot(kind=\"bar\")\n",
    "plt.show()"
   ]
  },
  {
   "cell_type": "markdown",
   "id": "cb608aaf",
   "metadata": {},
   "source": [
    "**High Value or Loyal Customers**\n",
    "\n",
    "Customers who are buying the most\n",
    "\n"
   ]
  },
  {
   "cell_type": "code",
   "execution_count": 25,
   "id": "698c184d",
   "metadata": {},
   "outputs": [
    {
     "data": {
      "image/png": "[encoded data removed]",
      "text/plain": [
       "<Figure size 640x480 with 1 Axes>"
      ]
     },
     "metadata": {},
     "output_type": "display_data"
    }
   ],
   "source": [
    "loyal_customer = df.pivot_table(values=\"quantity\", index=\"customer_num\", aggfunc=\"sum\")\n",
    "loyal_customer.sort_values(\"quantity\", ascending=False, inplace=True)\n",
    "loyal_customer.head(10).plot(kind=\"bar\")\n",
    "plt.show()\n",
    "\n"
   ]
  },
  {
   "cell_type": "markdown",
   "id": "9d12fbc1",
   "metadata": {},
   "source": [
    "**Revenue trend over time**"
   ]
  },
  {
   "cell_type": "code",
   "execution_count": 28,
   "id": "6f00d3fa",
   "metadata": {},
   "outputs": [
    {
     "data": {
      "image/png": "[encoded data removed]",
      "text/plain": [
       "<Figure size 2000x600 with 1 Axes>"
      ]
     },
     "metadata": {},
     "output_type": "display_data"
    }
   ],
   "source": [
    "df[\"year_month\"] = pd.to_datetime(df[\"year\"].astype(str) + \"-\" + df[\"month\"].astype(str).str.zfill(2))\n",
    "\n",
    "revenue_over_time = df.pivot_table(values=\"revenue\", index=\"year_month\", aggfunc=\"sum\").reset_index()\n",
    "\n",
    "plt.figure(figsize=(20, 6))\n",
    "plt.plot(revenue_over_time[\"year_month\"], revenue_over_time[\"revenue\"], marker=\"o\")\n",
    "\n",
    "plt.xlabel(\"Month\")\n",
    "plt.ylabel(\"Revenue\")\n",
    "plt.xticks(ticks=revenue_over_time[\"year_month\"], labels=revenue_over_time[\"year_month\"].dt.strftime(\"%b-%Y\"), rotation=45)\n",
    "plt.grid(True)\n",
    "plt.tight_layout()\n",
    "plt.show()\n"
   ]
  },
  {
   "cell_type": "markdown",
   "id": "8a6e8fac",
   "metadata": {},
   "source": [
    "Are there seasonal patterns?"
   ]
  },
  {
   "cell_type": "markdown",
   "id": "cbe7b1fc",
   "metadata": {},
   "source": [
    "by day_name"
   ]
  },
  {
   "cell_type": "code",
   "execution_count": 37,
   "id": "86a20b96",
   "metadata": {},
   "outputs": [
    {
     "data": {
      "image/png": "[encoded data removed]",
      "text/plain": [
       "<Figure size 640x480 with 1 Axes>"
      ]
     },
     "metadata": {},
     "output_type": "display_data"
    }
   ],
   "source": [
    "day_revenue = df.groupby(\"day_name\")[\"revenue\"].sum()\n",
    "day_order = [\"Monday\", \"Tuesday\", \"Wednesday\", \"Thursday\", \"Friday\", \"Saturday\", \"Sunday\"]\n",
    "day_revenue = day_revenue.reindex(day_order)\n",
    "\n",
    "day_revenue.plot(kind=\"bar\")\n",
    "plt.show()\n"
   ]
  },
  {
   "cell_type": "markdown",
   "id": "de5191d7",
   "metadata": {},
   "source": [
    "by Month"
   ]
  },
  {
   "cell_type": "code",
   "execution_count": 51,
   "id": "6dc509ef",
   "metadata": {},
   "outputs": [
    {
     "data": {
      "image/png": "[encoded data removed]",
      "text/plain": [
       "<Figure size 640x480 with 1 Axes>"
      ]
     },
     "metadata": {},
     "output_type": "display_data"
    }
   ],
   "source": [
    "month_revenue = df.groupby(\"month_name\")[\"revenue\"].sum()\n",
    "month_order = [\"January\", \"February\", \"March\", \"April\", \"May\", \"June\", \"July\", \"August\", \"September\", \"October\", \"November\", \"December\"]\n",
    "month_revenue = month_revenue.reindex(month_order)\n",
    "\n",
    "\n",
    "month_revenue.plot(kind=\"bar\")\n",
    "plt.show()\n"
   ]
  },
  {
   "cell_type": "code",
   "execution_count": 49,
   "id": "599bba96",
   "metadata": {},
   "outputs": [
    {
     "data": {
      "text/plain": [
       "month_name\n",
       "April        3681552.17\n",
       "August       4859635.73\n",
       "December     7552997.77\n",
       "February     3342346.68\n",
       "January      4606613.38\n",
       "July         4621458.37\n",
       "June         4556430.93\n",
       "March        4400882.91\n",
       "May          4599233.36\n",
       "November     7865408.51\n",
       "October      7228733.74\n",
       "September    6676551.52\n",
       "Name: revenue, dtype: float64"
      ]
     },
     "execution_count": 49,
     "metadata": {},
     "output_type": "execute_result"
    }
   ],
   "source": [
    "df.head()\n",
    "df.groupby(\"month_name\")[\"revenue\"].sum()"
   ]
  },
  {
   "cell_type": "code",
   "execution_count": 74,
   "id": "4339e7dd",
   "metadata": {},
   "outputs": [
    {
     "data": {
      "image/png": "[encoded data removed]",
      "text/plain": [
       "<Figure size 640x480 with 1 Axes>"
      ]
     },
     "metadata": {},
     "output_type": "display_data"
    }
   ],
   "source": [
    "month_ind = df.set_index(\"month_name\")\n",
    "x = month_ind.loc[[\"October\", \"November\", \"December\"], [\"product_name\", \"revenue\"]]\n",
    "\n",
    "x.groupby(\"product_name\")[\"revenue\"].sum().sort_values(ascending=False).head(3).plot(kind=\"bar\")\n",
    "plt.show()\n"
   ]
  },
  {
   "cell_type": "code",
   "execution_count": 76,
   "id": "7bb8cd52",
   "metadata": {},
   "outputs": [
    {
     "data": {
      "image/png": "[encoded data removed]",
      "text/plain": [
       "<Figure size 800x500 with 1 Axes>"
      ]
     },
     "metadata": {},
     "output_type": "display_data"
    }
   ],
   "source": [
    "# Make sure your month_name is a categorical type in correct order\n",
    "month_order = [\"January\", \"February\", \"March\", \"April\", \"May\", \"June\",\n",
    "               \"July\", \"August\", \"September\", \"October\", \"November\", \"December\"]\n",
    "df[\"month_name\"] = pd.Categorical(df[\"month_name\"], categories=month_order, ordered=True)\n",
    "\n",
    "# Filter for Oct–Dec\n",
    "q4_df = df[df[\"month_name\"].isin([\"October\", \"November\", \"December\"])]\n",
    "\n",
    "top_products = (\n",
    "    q4_df.groupby(\"product_name\")[\"revenue\"]\n",
    "    .sum()\n",
    "    .sort_values(ascending=False)\n",
    "    .head(3)\n",
    ")\n",
    "top_products.plot(kind=\"bar\", figsize=(8, 5), title=\"Top 3 Products (Oct–Dec Revenue)\")\n",
    "plt.ylabel(\"Revenue\")\n",
    "plt.xlabel(\"Product Name\")\n",
    "plt.xticks(rotation=45, ha=\"right\")\n",
    "plt.tight_layout()\n",
    "plt.grid(True)\n",
    "plt.show()\n",
    "\n"
   ]
  },
  {
   "cell_type": "code",
   "execution_count": 82,
   "id": "a90de3f5",
   "metadata": {},
   "outputs": [
    {
     "data": {
      "image/png": "[encoded data removed]",
      "text/plain": [
       "<Figure size 1000x600 with 1 Axes>"
      ]
     },
     "metadata": {},
     "output_type": "display_data"
    }
   ],
   "source": [
    "y = df[\"country\"].value_counts().sort_values(ascending=False).head(10)\n",
    "y.plot(kind=\"bar\", figsize=(10, 6))\n",
    "plt.ylabel(\"Revenue\")\n",
    "plt.xlabel(\"Country\")\n",
    "plt.xticks(rotation=45, ha=\"right\")\n",
    "plt.tight_layout()\n",
    "plt.grid(True)\n",
    "plt.show()\n"
   ]
  },
  {
   "cell_type": "code",
   "execution_count": 77,
   "id": "1fd90ddb",
   "metadata": {},
   "outputs": [
    {
     "data": {
      "text/html": [
       "<div>\n",
       "<style scoped>\n",
       "    .dataframe tbody tr th:only-of-type {\n",
       "        vertical-align: middle;\n",
       "    }\n",
       "\n",
       "    .dataframe tbody tr th {\n",
       "        vertical-align: top;\n",
       "    }\n",
       "\n",
       "    .dataframe thead th {\n",
       "        text-align: right;\n",
       "    }\n",
       "</style>\n",
       "<table border=\"1\" class=\"dataframe\">\n",
       "  <thead>\n",
       "    <tr style=\"text-align: right;\">\n",
       "      <th></th>\n",
       "      <th>date</th>\n",
       "      <th>product_num</th>\n",
       "      <th>product_name</th>\n",
       "      <th>price</th>\n",
       "      <th>quantity</th>\n",
       "      <th>customer_num</th>\n",
       "      <th>country</th>\n",
       "      <th>day_name</th>\n",
       "      <th>week</th>\n",
       "      <th>month_name</th>\n",
       "      <th>month</th>\n",
       "      <th>year</th>\n",
       "      <th>revenue</th>\n",
       "      <th>year_month</th>\n",
       "    </tr>\n",
       "  </thead>\n",
       "  <tbody>\n",
       "    <tr>\n",
       "      <th>0</th>\n",
       "      <td>2018-12-23</td>\n",
       "      <td>85161</td>\n",
       "      <td>Acrylic Geometric Lamp</td>\n",
       "      <td>49.47</td>\n",
       "      <td>1</td>\n",
       "      <td>13958.0</td>\n",
       "      <td>United Kingdom</td>\n",
       "      <td>Sunday</td>\n",
       "      <td>51</td>\n",
       "      <td>December</td>\n",
       "      <td>12</td>\n",
       "      <td>2018</td>\n",
       "      <td>49.47</td>\n",
       "      <td>2018-12-01</td>\n",
       "    </tr>\n",
       "    <tr>\n",
       "      <th>1</th>\n",
       "      <td>2018-12-23</td>\n",
       "      <td>22423</td>\n",
       "      <td>Regency Cakestand 3 Tier</td>\n",
       "      <td>36.38</td>\n",
       "      <td>5</td>\n",
       "      <td>14955.0</td>\n",
       "      <td>United Kingdom</td>\n",
       "      <td>Sunday</td>\n",
       "      <td>51</td>\n",
       "      <td>December</td>\n",
       "      <td>12</td>\n",
       "      <td>2018</td>\n",
       "      <td>181.90</td>\n",
       "      <td>2018-12-01</td>\n",
       "    </tr>\n",
       "    <tr>\n",
       "      <th>2</th>\n",
       "      <td>2018-12-23</td>\n",
       "      <td>22423</td>\n",
       "      <td>Regency Cakestand 3 Tier</td>\n",
       "      <td>36.38</td>\n",
       "      <td>2</td>\n",
       "      <td>13958.0</td>\n",
       "      <td>United Kingdom</td>\n",
       "      <td>Sunday</td>\n",
       "      <td>51</td>\n",
       "      <td>December</td>\n",
       "      <td>12</td>\n",
       "      <td>2018</td>\n",
       "      <td>72.76</td>\n",
       "      <td>2018-12-01</td>\n",
       "    </tr>\n",
       "    <tr>\n",
       "      <th>3</th>\n",
       "      <td>2018-12-23</td>\n",
       "      <td>22503</td>\n",
       "      <td>Cabin Bag Vintage Paisley</td>\n",
       "      <td>36.38</td>\n",
       "      <td>1</td>\n",
       "      <td>13958.0</td>\n",
       "      <td>United Kingdom</td>\n",
       "      <td>Sunday</td>\n",
       "      <td>51</td>\n",
       "      <td>December</td>\n",
       "      <td>12</td>\n",
       "      <td>2018</td>\n",
       "      <td>36.38</td>\n",
       "      <td>2018-12-01</td>\n",
       "    </tr>\n",
       "    <tr>\n",
       "      <th>4</th>\n",
       "      <td>2018-12-23</td>\n",
       "      <td>22760</td>\n",
       "      <td>Tray Breakfast In Bed</td>\n",
       "      <td>36.38</td>\n",
       "      <td>1</td>\n",
       "      <td>13958.0</td>\n",
       "      <td>United Kingdom</td>\n",
       "      <td>Sunday</td>\n",
       "      <td>51</td>\n",
       "      <td>December</td>\n",
       "      <td>12</td>\n",
       "      <td>2018</td>\n",
       "      <td>36.38</td>\n",
       "      <td>2018-12-01</td>\n",
       "    </tr>\n",
       "  </tbody>\n",
       "</table>\n",
       "</div>"
      ],
      "text/plain": [
       "        date product_num               product_name  price  quantity  \\\n",
       "0 2018-12-23       85161     Acrylic Geometric Lamp  49.47         1   \n",
       "1 2018-12-23       22423   Regency Cakestand 3 Tier  36.38         5   \n",
       "2 2018-12-23       22423   Regency Cakestand 3 Tier  36.38         2   \n",
       "3 2018-12-23       22503  Cabin Bag Vintage Paisley  36.38         1   \n",
       "4 2018-12-23       22760      Tray Breakfast In Bed  36.38         1   \n",
       "\n",
       "   customer_num         country day_name  week month_name  month  year  \\\n",
       "0       13958.0  United Kingdom   Sunday    51   December     12  2018   \n",
       "1       14955.0  United Kingdom   Sunday    51   December     12  2018   \n",
       "2       13958.0  United Kingdom   Sunday    51   December     12  2018   \n",
       "3       13958.0  United Kingdom   Sunday    51   December     12  2018   \n",
       "4       13958.0  United Kingdom   Sunday    51   December     12  2018   \n",
       "\n",
       "   revenue year_month  \n",
       "0    49.47 2018-12-01  \n",
       "1   181.90 2018-12-01  \n",
       "2    72.76 2018-12-01  \n",
       "3    36.38 2018-12-01  \n",
       "4    36.38 2018-12-01  "
      ]
     },
     "execution_count": 77,
     "metadata": {},
     "output_type": "execute_result"
    }
   ],
   "source": [
    "df.head()"
   ]
  },
  {
   "cell_type": "markdown",
   "id": "29db0ab7",
   "metadata": {},
   "source": [
    "How much are customers typically spending per transaction?"
   ]
  },
  {
   "cell_type": "code",
   "execution_count": 85,
   "id": "3137676d",
   "metadata": {},
   "outputs": [
    {
     "data": {
      "image/png": "[encoded data removed]",
      "text/plain": [
       "<Figure size 640x480 with 1 Axes>"
      ]
     },
     "metadata": {},
     "output_type": "display_data"
    }
   ],
   "source": [
    "z = df.groupby(\"customer_num\")[\"revenue\"].mean().sort_values(ascending=False).head(10)\n",
    "z.plot(kind=\"bar\")\n",
    "plt.show()"
   ]
  }
 ],
 "metadata": {
  "kernelspec": {
   "display_name": "venv",
   "language": "python",
   "name": "python3"
  },
  "language_info": {
   "codemirror_mode": {
    "name": "ipython",
    "version": 3
   },
   "file_extension": ".py",
   "mimetype": "text/x-python",
   "name": "python",
   "nbconvert_exporter": "python",
   "pygments_lexer": "ipython3",
   "version": "3.12.4"
  }
 },
 "nbformat": 4,
 "nbformat_minor": 5
}
